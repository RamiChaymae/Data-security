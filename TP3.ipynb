{
 "cells": [
  {
   "cell_type": "code",
   "execution_count": 1,
   "id": "e2d5c614",
   "metadata": {},
   "outputs": [],
   "source": [
    "from random import randrange, randint\n",
    "from math import gcd\n",
    "import sympy as sn\n",
    "import time"
   ]
  },
  {
   "cell_type": "markdown",
   "id": "6d3e9d07",
   "metadata": {},
   "source": [
    "# Jacobi"
   ]
  },
  {
   "cell_type": "code",
   "execution_count": 2,
   "id": "c75ce68f",
   "metadata": {},
   "outputs": [],
   "source": [
    "def jacobi_symbol(a, p):\n",
    "    \"\"\"Calcule le symbole de Jacobi de a modulo p.\"\"\"\n",
    "    if gcd(a, p) != 1:\n",
    "        return 0\n",
    "    s = 1\n",
    "    while a != 0:\n",
    "        while a % 2 == 0:\n",
    "            a //= 2\n",
    "            if p % 8 in (3, 5):\n",
    "                s = -s\n",
    "        a, p = p, a\n",
    "        if a % 4 == p % 4 == 3:\n",
    "            s = -s\n",
    "        a %= p\n",
    "    if p == 1:\n",
    "        return s\n",
    "    else:\n",
    "        return 0\n",
    "    \n",
    "def find_generator(p):\n",
    "    \"\"\"Trouve un générateur de Z*p en utilisant la fonction de Jacobi.\"\"\"\n",
    "    while True:\n",
    "        a = randrange(2, p)\n",
    "        if jacobi_symbol(a, p) == -1:\n",
    "            return a"
   ]
  },
  {
   "cell_type": "code",
   "execution_count": null,
   "id": "5b869b94",
   "metadata": {},
   "outputs": [],
   "source": []
  },
  {
   "cell_type": "markdown",
   "id": "9f7f0190",
   "metadata": {},
   "source": [
    "# Diffie Hellman"
   ]
  },
  {
   "cell_type": "code",
   "execution_count": 3,
   "id": "8c422a3c",
   "metadata": {},
   "outputs": [
    {
     "data": {
      "text/plain": [
       "216252537359802360437955963776301864828876587140819924529478592600692191703172381851322296239993739718838987622324846554556411042022046523187096378404422359267300755741321056519645768810950524171587167488506179010092362206167416332207920925597507360459070391697522457205169213560323734133093369003187924223647"
      ]
     },
     "execution_count": 3,
     "metadata": {},
     "output_type": "execute_result"
    }
   ],
   "source": [
    "p = sn.randprime(2**1024 , 2**1025 -1 )\n",
    "p"
   ]
  },
  {
   "cell_type": "code",
   "execution_count": 4,
   "id": "378b95ef",
   "metadata": {},
   "outputs": [
    {
     "data": {
      "text/plain": [
       "105427929673864009751255783112168497139697723849534526903488145894002792163397943902244724869325029966406302358415954266575175168709076202694264911776027648072398820001204406090442179302115079542696377473922029823335569570555571217152217491548454532053923172385148503511383823499570597736884855491190112947923"
      ]
     },
     "execution_count": 4,
     "metadata": {},
     "output_type": "execute_result"
    }
   ],
   "source": [
    "g = find_generator(p)\n",
    "g"
   ]
  },
  {
   "cell_type": "markdown",
   "id": "66029f04",
   "metadata": {},
   "source": [
    "## USER A"
   ]
  },
  {
   "cell_type": "code",
   "execution_count": 5,
   "id": "06d5764d",
   "metadata": {},
   "outputs": [],
   "source": [
    "#la clé privé\n",
    "a = a=randint(2,p-2)"
   ]
  },
  {
   "cell_type": "code",
   "execution_count": 6,
   "id": "32286cd0",
   "metadata": {},
   "outputs": [
    {
     "data": {
      "text/plain": [
       "124604011053335381843143895363050904848498210508577304313298130980609280384460444592457820527559831211237192766772031343818723602862092230988440503775693794758598063124814816000906805018460738757569990911797018381988448655084668411225808668347391438104988080581636065763425975069437033990424659008464718955834"
      ]
     },
     "execution_count": 6,
     "metadata": {},
     "output_type": "execute_result"
    }
   ],
   "source": [
    "#la clé public qui doit être ensuite partagé avec user B\n",
    "A = pow( g , a , p )\n",
    "A"
   ]
  },
  {
   "cell_type": "code",
   "execution_count": 11,
   "id": "6ea8336c",
   "metadata": {},
   "outputs": [
    {
     "data": {
      "text/plain": [
       "200293034911633483874919907916542505704954969441545707749018048955461915220755700505998362964686670420912436948086896180774018710848870003332603669476891402050502524644301624181701405545929943600142597668382088945187470835234585732152371001790209627571934795305757715158882623402733364295469879178745688733428"
      ]
     },
     "execution_count": 11,
     "metadata": {},
     "output_type": "execute_result"
    }
   ],
   "source": [
    "#B est la clé publique partagée par user B\n",
    "Ka=pow(B , a , p)\n",
    "Ka"
   ]
  },
  {
   "cell_type": "code",
   "execution_count": null,
   "id": "30e05095",
   "metadata": {},
   "outputs": [],
   "source": []
  },
  {
   "cell_type": "markdown",
   "id": "d266c43c",
   "metadata": {},
   "source": [
    "## USER B"
   ]
  },
  {
   "cell_type": "code",
   "execution_count": 8,
   "id": "4efa5c12",
   "metadata": {},
   "outputs": [],
   "source": [
    "#La clé privé\n",
    "b = randint(2,p-2)"
   ]
  },
  {
   "cell_type": "code",
   "execution_count": 9,
   "id": "62e3c5bf",
   "metadata": {},
   "outputs": [
    {
     "data": {
      "text/plain": [
       "98951436494249176104201436719312919106645311981791892625282818205300543985612850194895252346193444668215717036790281805289801717108337168700365000147599395165392471474127100326956363320465674857946638370414637322590068187974221947913166080739054070220208111679885515829158933408687081166776481619137080147858"
      ]
     },
     "execution_count": 9,
     "metadata": {},
     "output_type": "execute_result"
    }
   ],
   "source": [
    "#la clé publique qui doit être ensuite partagé avec userA\n",
    "B= pow( g , b , p )\n",
    "B"
   ]
  },
  {
   "cell_type": "code",
   "execution_count": 10,
   "id": "826c55a0",
   "metadata": {},
   "outputs": [
    {
     "data": {
      "text/plain": [
       "200293034911633483874919907916542505704954969441545707749018048955461915220755700505998362964686670420912436948086896180774018710848870003332603669476891402050502524644301624181701405545929943600142597668382088945187470835234585732152371001790209627571934795305757715158882623402733364295469879178745688733428"
      ]
     },
     "execution_count": 10,
     "metadata": {},
     "output_type": "execute_result"
    }
   ],
   "source": [
    "#A est la clé publique partagée par user A\n",
    "Kb = pow( A , b , p )\n",
    "Kb"
   ]
  },
  {
   "cell_type": "code",
   "execution_count": null,
   "id": "b311bc7f",
   "metadata": {},
   "outputs": [],
   "source": []
  },
  {
   "cell_type": "markdown",
   "id": "7af7e1f3",
   "metadata": {},
   "source": [
    "# RSA"
   ]
  },
  {
   "cell_type": "code",
   "execution_count": 12,
   "id": "c6b1a8e8",
   "metadata": {},
   "outputs": [],
   "source": [
    "def generer(nb) :\n",
    "    #generer deux nombre premier distinctes de nb bits\n",
    "    p,q = 1,1\n",
    "    while p==q:  \n",
    "        p=sn.randprime( 2**nb , 2**(nb+1) -1 )\n",
    "        q=sn.randprime( 2**nb , 2**(nb+1) -1 )\n",
    "        \n",
    "        \n",
    "    #caluler n\n",
    "    n=q*p\n",
    "    \n",
    "    #calculer fi(n)\n",
    "    fi = (q-1)*(p-1)\n",
    "    \n",
    "    #trouver un entier e telque pgcd( e , fi(n) ) = 1\n",
    "    e=pow(2,16)+1\n",
    "    \n",
    "    #calculer d\n",
    "    d= pow(e,-1 , fi )\n",
    "    \n",
    "    return (n,e), (n,d)"
   ]
  },
  {
   "cell_type": "code",
   "execution_count": 13,
   "id": "c236888a",
   "metadata": {},
   "outputs": [],
   "source": [
    "def chiffrer ( texte , cle_public ) :\n",
    "    \n",
    "    encoded_text = texte.encode('utf-8')\n",
    "    \n",
    "    # Convertit la séquence d'octets en un entier\n",
    "    int_value = int.from_bytes(encoded_text, byteorder='big')\n",
    "    \n",
    "    return  pow( int_value , cle_public[1] , cle_public[0] )\n"
   ]
  },
  {
   "cell_type": "code",
   "execution_count": 14,
   "id": "afcc1101",
   "metadata": {},
   "outputs": [],
   "source": [
    "def dechiffre( text_chiffré , cle_privé ) : \n",
    "\n",
    "    text_déchiffré = pow(text_chiffré , cle_privé[1] , cle_privé[0] ) \n",
    "    \n",
    "    # Convertit l'entier en une séquence d'octets\n",
    "    encoded_text = text_déchiffré.to_bytes((text_déchiffré.bit_length() + 7) // 8, byteorder='big')\n",
    "    \n",
    "    # Décode la séquence d'octets en UTF-8 pour obtenir le texte\n",
    "    text = encoded_text.decode('utf-8')\n",
    "    \n",
    "    return text"
   ]
  },
  {
   "cell_type": "code",
   "execution_count": 15,
   "id": "36539898",
   "metadata": {},
   "outputs": [],
   "source": [
    "pr , pub = generer(2048)"
   ]
  },
  {
   "cell_type": "code",
   "execution_count": 16,
   "id": "83672114",
   "metadata": {},
   "outputs": [
    {
     "name": "stdout",
     "output_type": "stream",
     "text": [
      "Le text chiffre de Hello word ! est 1480331987805424813848733410951375072346372437227407927326059248072755943951067548326540573090656483243051022084318497394716562798982307229891529301664872899810276578601155400728457707205942394696362352156163386406468628797362750255121822010282658690650856998980380814734721900925644144130776311136485308131146136147603763933837669993274032052547840660562052679951279813480639745736460609355998740526755512616364276788974293540256561873364025348283194822919850772049819882949198858970645051555994756528296447435262070301974507087220414446437790033987070144846090773267510462342543416754329966948855004301815731250132922889628567385568207115959207823675495119512638461090657051023257918296250378319566721506731720671573070706366798166364381652106904995426692356922810265425544753995682608714784639127537518761551241325635296279333131529137187573156782254781965183773065028771023317971161888159269141991689544130987819700150508726428235529933325042415602529159913566540350431161655299571656004961833911378840188735796629305633410978661320805250420526454721218782422273706551383368116889794441060756475745911066646133438811035874910245243593894492181972915793225869137135560616946488008839552824975727455928705423412079639309610976361120\n"
     ]
    }
   ],
   "source": [
    "txt = 'Hello word !'\n",
    "txt_chiffré = chiffrer ( txt , pub )\n",
    "print(f'Le text chiffre de { txt } est {txt_chiffré}')"
   ]
  },
  {
   "cell_type": "code",
   "execution_count": 17,
   "id": "ecde155b",
   "metadata": {},
   "outputs": [
    {
     "name": "stdout",
     "output_type": "stream",
     "text": [
      "Le texte déchiffré est : Hello word !\n",
      "0.0021212100982666016\n"
     ]
    }
   ],
   "source": [
    "t1 = time.time()\n",
    "print('Le texte déchiffré est :' ,dechiffre(txt_chiffré , pr ))\n",
    "print( time.time() - t1)"
   ]
  },
  {
   "cell_type": "code",
   "execution_count": null,
   "id": "62ba0b21",
   "metadata": {},
   "outputs": [],
   "source": []
  },
  {
   "cell_type": "markdown",
   "id": "79b05d8c",
   "metadata": {},
   "source": [
    "# RSA_CRT"
   ]
  },
  {
   "cell_type": "code",
   "execution_count": 18,
   "id": "a8ce703b",
   "metadata": {},
   "outputs": [],
   "source": [
    "def generer_crt(nb) :\n",
    "    \n",
    "    #generer 2 nombres premiers\n",
    "    p=sn.randprime( 2**nb , 2**(nb+1) -1 )\n",
    "    q=sn.randprime( 2**nb , 2**(nb+1) -1 )\n",
    "    \n",
    "    #calculer n = p*q\n",
    "    n=p*q\n",
    "    \n",
    "    \n",
    "    e=pow(2,16)+1\n",
    "    \n",
    "    dp = pow ( e , -1 , p-1 )\n",
    "    dq = pow ( e , -1 , q-1 )\n",
    "    \n",
    "    \n",
    "    return (n,e)  , (p, q, dp, dq) "
   ]
  },
  {
   "cell_type": "code",
   "execution_count": 19,
   "id": "aee41575",
   "metadata": {},
   "outputs": [],
   "source": [
    "def crt_rsa( txt , cle_prive) :\n",
    "\n",
    "    mp = pow( txt, cle_prive[2] , cle_prive[0] )\n",
    "    mq = pow( txt , cle_prive[3] , cle_prive[1] )\n",
    "        \n",
    "    q_inv = pow(cle_prive[1] , -1 , cle_prive[0])\n",
    "        \n",
    "    h = q_inv * (mp - mq)\n",
    "        \n",
    "    m = mq + cle_prive[1]*h\n",
    " \n",
    "    # Convertit l'entier en une séquence d'octets\n",
    "    encoded_text = m.to_bytes((m.bit_length() + 7) // 8, byteorder='big')\n",
    "    \n",
    "    # Décode la séquence d'octets en UTF-8 pour obtenir le texte\n",
    "    text = encoded_text.decode('utf-8')\n",
    "    \n",
    "    return text"
   ]
  },
  {
   "cell_type": "code",
   "execution_count": 20,
   "id": "bd37d992",
   "metadata": {},
   "outputs": [],
   "source": [
    "pub , prive   = generer_crt(2048)"
   ]
  },
  {
   "cell_type": "code",
   "execution_count": 21,
   "id": "707d9050",
   "metadata": {},
   "outputs": [
    {
     "data": {
      "text/plain": [
       "77550770878446694633642179065554057520334446874672764243447044151340113527193043323012751061551152447656033061636275396994413116266322254876111555637180370387546841364702456493132592086344238594410350968108191350521752441702315525130816720497039410531313867451066560076698237483904302366720403388396655660117027445487313742588854598144796477674320228900958383855402054632586951295342213713772246398524521170581780741653229560353472630514631740184626723194571021358119098112645026560327854003222383570028969268377547966137675297040395383379919853020092880111289132352556592717916828944546581199871365689804990420088796278488188098936651844760256796989702197469361856272061203703372534519548108506892694342051357562097571178043170505362490691000071280732623002631792454045536141409551698695200554233601358970379657115433345866863866475220765672043118080312121083647488256235283311669607214845559620931317530564463655640185249007788692719158217940116905319691885763129771451950552972493705835467460942326518264170184808666417563361384702994806198987048680378891445617495684291000294367049883794715779890701370240965296606399165147559917759529045497728137694263608033392412451485559640960468620299885516005209604249012045788902263895780"
      ]
     },
     "execution_count": 21,
     "metadata": {},
     "output_type": "execute_result"
    }
   ],
   "source": [
    "t  = chiffrer( \"hello word !\" , pub)\n",
    "t"
   ]
  },
  {
   "cell_type": "code",
   "execution_count": 22,
   "id": "f9e43af9",
   "metadata": {},
   "outputs": [
    {
     "name": "stdout",
     "output_type": "stream",
     "text": [
      "Le texte déchiffré est : hello word !\n",
      "0.13279509544372559\n"
     ]
    }
   ],
   "source": [
    "t1=time.time()\n",
    "print('Le texte déchiffré est :' ,crt_rsa( t , prive))\n",
    "print(time.time() - t1)"
   ]
  },
  {
   "cell_type": "code",
   "execution_count": null,
   "id": "42d66419",
   "metadata": {},
   "outputs": [],
   "source": []
  },
  {
   "cell_type": "markdown",
   "id": "10f364db",
   "metadata": {},
   "source": [
    "## Comparaison"
   ]
  },
  {
   "cell_type": "code",
   "execution_count": 23,
   "id": "f29ac60b",
   "metadata": {},
   "outputs": [],
   "source": [
    "def generer_comp(nb) :\n",
    "    \n",
    "    #generer 2 nombres premiers\n",
    "    p=sn.randprime( 2**nb , 2**(nb+1) -1 )\n",
    "    q=sn.randprime( 2**nb , 2**(nb+1) -1 )\n",
    "    \n",
    "    #calculer n = p*q\n",
    "    n=p*q\n",
    "    \n",
    "    \n",
    "    e=pow(2,16)+1\n",
    "    \n",
    "    dp = pow ( e , -1 , p-1 )\n",
    "    dq = pow ( e , -1 , q-1 )\n",
    "    \n",
    "    fi = (p-1)*(q-1)\n",
    "    d= pow(e,-1 , fi )\n",
    "    \n",
    "    return (n,e)  , (p, q, dp, dq)  , (n,d)"
   ]
  },
  {
   "cell_type": "code",
   "execution_count": 24,
   "id": "7f645266",
   "metadata": {},
   "outputs": [],
   "source": [
    "pub , pri_crt  , pri_rsa = generer_comp(2048)"
   ]
  },
  {
   "cell_type": "code",
   "execution_count": 25,
   "id": "06a59630",
   "metadata": {},
   "outputs": [],
   "source": [
    "t= chiffrer( 'Hello word ' , pub)"
   ]
  },
  {
   "cell_type": "code",
   "execution_count": 26,
   "id": "81ed3e58",
   "metadata": {},
   "outputs": [
    {
     "name": "stdout",
     "output_type": "stream",
     "text": [
      "Le texte déchiffré est : Hello word \n",
      "Le temps d'execution est  0.2651810646057129\n"
     ]
    }
   ],
   "source": [
    "t1 = time.time()\n",
    "print('Le texte déchiffré est :' ,dechiffre(t  , pri_rsa ))\n",
    "print(\"Le temps d'execution est \" ,  time.time() - t1 )"
   ]
  },
  {
   "cell_type": "code",
   "execution_count": 27,
   "id": "d4b1dd75",
   "metadata": {},
   "outputs": [
    {
     "name": "stdout",
     "output_type": "stream",
     "text": [
      "Le texte déchiffré est : Hello word \n",
      "Le temps d'execution est  0.13838529586791992\n"
     ]
    }
   ],
   "source": [
    "t1 = time.time()\n",
    "print('Le texte déchiffré est :' ,crt_rsa(t  , pri_crt ))\n",
    "print(\"Le temps d'execution est \" ,  time.time() - t1 )"
   ]
  },
  {
   "cell_type": "code",
   "execution_count": null,
   "id": "a69ce1f3",
   "metadata": {},
   "outputs": [],
   "source": []
  },
  {
   "cell_type": "markdown",
   "id": "e9e5e969",
   "metadata": {},
   "source": [
    "# ElGammal"
   ]
  },
  {
   "cell_type": "code",
   "execution_count": 28,
   "id": "f0580e2c",
   "metadata": {},
   "outputs": [],
   "source": [
    "def generer(nb) :\n",
    "    #un nombre premier\n",
    "    p = sn.randprime(2**nb , 2**(nb+1) -1 )\n",
    "    \n",
    "    #trouver un generateur g \n",
    "    g = find_generator(p)\n",
    "        \n",
    "    #alpha\n",
    "    x = randint(2,p-2)\n",
    "    \n",
    "    #beta\n",
    "    b = pow( g , x , p )\n",
    "    \n",
    "    return  (p , x ) , (p , g , b)"
   ]
  },
  {
   "cell_type": "code",
   "execution_count": 29,
   "id": "8320d688",
   "metadata": {},
   "outputs": [],
   "source": [
    "def chiffrer( text , cle_pub ) :\n",
    "    k = randint( 2 , cle_pub[0]-2 )\n",
    "    \n",
    "    c1 = pow( cle_pub[1] , k , cle_pub[0] )\n",
    "    \n",
    "    encoded_text = text.encode('utf-8')\n",
    "    \n",
    "    # Convertit la séquence d'octets en un entier\n",
    "    int_value = int.from_bytes(encoded_text, byteorder='big')\n",
    "\n",
    "    c2 = int_value * pow(cle_pub[2],k,cle_pub[0]) \n",
    "    \n",
    "    return ( c1 , c2)\n",
    "    "
   ]
  },
  {
   "cell_type": "code",
   "execution_count": 30,
   "id": "f91a2528",
   "metadata": {},
   "outputs": [],
   "source": [
    "def dechiffrer( c , cle_prive ) :\n",
    "    c1 = pow( c[0] , -cle_prive[1] , cle_prive[0] )\n",
    "    \n",
    "    m =  (c1* c[1]) % cle_prive[0] \n",
    "\n",
    "    # Convertit l'entier en une séquence d'octets\n",
    "    encoded_text = m.to_bytes((m.bit_length() + 7) // 8, byteorder='big')\n",
    "    \n",
    "    # Décode la séquence d'octets en UTF-8 pour obtenir le texte\n",
    "    text = encoded_text.decode('utf-8')\n",
    "    \n",
    "    return text"
   ]
  },
  {
   "cell_type": "code",
   "execution_count": 31,
   "id": "458c82a7",
   "metadata": {},
   "outputs": [],
   "source": [
    "pr , pub = generer(1024)"
   ]
  },
  {
   "cell_type": "code",
   "execution_count": 32,
   "id": "e01996d3",
   "metadata": {},
   "outputs": [
    {
     "name": "stdout",
     "output_type": "stream",
     "text": [
      "Le chiffrement de Hello word ! est (86540324781984294906421672045504990051232359330768529920185994184648620800534901726308642919714077689379230658824121481116557008816455656178734200352807563330083761613625235909310644775271728244488854844038788224868741906864683132391974246833095469800895809698412671237956455725660774697618653691496609632458, 1596413268614716013655158354801377076510499166233863946225033768455174061648666940945314964629893705539065193971200560648851494864511199795515310007015264852717364121252448718794734254400963205670358083692018685029938907879726691553226829564690156863079412723676403817642026490871961136123014100016094179560983928991160977526468688612851)  \n"
     ]
    }
   ],
   "source": [
    "txt = 'Hello word !'\n",
    "t = chiffrer(txt , pub)\n",
    "print(f'Le chiffrement de { txt } est { t }  ')"
   ]
  },
  {
   "cell_type": "code",
   "execution_count": 33,
   "id": "da244113",
   "metadata": {},
   "outputs": [
    {
     "name": "stdout",
     "output_type": "stream",
     "text": [
      "Le texte déchiffré est : Hello word !\n"
     ]
    }
   ],
   "source": [
    "print('Le texte déchiffré est :' , dechiffrer(t,pr))"
   ]
  },
  {
   "cell_type": "code",
   "execution_count": null,
   "id": "bbc9a06e-a9ab-4830-b73b-4cf08ba50b40",
   "metadata": {},
   "outputs": [],
   "source": []
  },
  {
   "cell_type": "code",
   "execution_count": null,
   "id": "788f6174",
   "metadata": {},
   "outputs": [],
   "source": []
  }
 ],
 "metadata": {
  "kernelspec": {
   "display_name": "Python 3 (ipykernel)",
   "language": "python",
   "name": "python3"
  },
  "language_info": {
   "codemirror_mode": {
    "name": "ipython",
    "version": 3
   },
   "file_extension": ".py",
   "mimetype": "text/x-python",
   "name": "python",
   "nbconvert_exporter": "python",
   "pygments_lexer": "ipython3",
   "version": "3.12.1"
  }
 },
 "nbformat": 4,
 "nbformat_minor": 5
}
