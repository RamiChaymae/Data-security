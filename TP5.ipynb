{
 "cells": [
  {
   "cell_type": "markdown",
   "id": "1969e055",
   "metadata": {},
   "source": [
    "# ECDH"
   ]
  },
  {
   "cell_type": "code",
   "execution_count": 1,
   "id": "819a0d4c",
   "metadata": {},
   "outputs": [],
   "source": [
    "import random as rd\n",
    "from cypari import pari"
   ]
  },
  {
   "cell_type": "code",
   "execution_count": 2,
   "id": "9994a905",
   "metadata": {},
   "outputs": [],
   "source": [
    "p=pari.randomprime(2**256)\n",
    "E = pari.ellinit( [0,7] , p  )\n",
    "G=pari.ellgenerators( E )\n",
    "card=pari.ellcard(E)"
   ]
  },
  {
   "cell_type": "code",
   "execution_count": null,
   "id": "61520b57",
   "metadata": {},
   "outputs": [],
   "source": []
  },
  {
   "cell_type": "markdown",
   "id": "4125f5d5",
   "metadata": {},
   "source": [
    "# User A"
   ]
  },
  {
   "cell_type": "code",
   "execution_count": 3,
   "id": "e3931c37",
   "metadata": {},
   "outputs": [
    {
     "data": {
      "text/plain": [
       "417202821365139634780547391873665803213161297802263016182624917608902309961"
      ]
     },
     "execution_count": 3,
     "metadata": {},
     "output_type": "execute_result"
    }
   ],
   "source": [
    "a = rd.randint(2,card-2)\n",
    "a"
   ]
  },
  {
   "cell_type": "code",
   "execution_count": 4,
   "id": "01b0f150",
   "metadata": {},
   "outputs": [
    {
     "data": {
      "text/plain": [
       "[Mod(801054148267724238951041238275087939410644905066512114541604031551376592727, 19795792123893480164707100824397222730984965037169701408771662919270303874559), Mod(11324377510157453853444997520444213596386473014324558648956548972379772682546, 19795792123893480164707100824397222730984965037169701408771662919270303874559)]"
      ]
     },
     "execution_count": 4,
     "metadata": {},
     "output_type": "execute_result"
    }
   ],
   "source": [
    "A = pari.ellmul(E , G[0], a )\n",
    "A"
   ]
  },
  {
   "cell_type": "code",
   "execution_count": 8,
   "id": "2e049763",
   "metadata": {},
   "outputs": [
    {
     "data": {
      "text/plain": [
       "[Mod(8219406185082579097609292889383425966420681921854095707681028840284107085711, 19795792123893480164707100824397222730984965037169701408771662919270303874559), Mod(2480495562503264044439220189450223904243715736870019294907404017718681508378, 19795792123893480164707100824397222730984965037169701408771662919270303874559)]"
      ]
     },
     "execution_count": 8,
     "metadata": {},
     "output_type": "execute_result"
    }
   ],
   "source": [
    "Ka = pari.ellmul(E , B , a )\n",
    "Ka"
   ]
  },
  {
   "cell_type": "code",
   "execution_count": null,
   "id": "193f79ed",
   "metadata": {},
   "outputs": [],
   "source": []
  },
  {
   "cell_type": "markdown",
   "id": "10c6d555",
   "metadata": {},
   "source": [
    "# User B"
   ]
  },
  {
   "cell_type": "code",
   "execution_count": 5,
   "id": "d140cbff",
   "metadata": {},
   "outputs": [
    {
     "data": {
      "text/plain": [
       "3858512867258104753355348743300045912001998252173509885877563543585040636810"
      ]
     },
     "execution_count": 5,
     "metadata": {},
     "output_type": "execute_result"
    }
   ],
   "source": [
    "b = rd.randint(2,card-2)\n",
    "b"
   ]
  },
  {
   "cell_type": "code",
   "execution_count": 6,
   "id": "b1879d71",
   "metadata": {},
   "outputs": [
    {
     "data": {
      "text/plain": [
       "[Mod(3431304681164900180995195231834437561531881569290094108495678647878335744527, 19795792123893480164707100824397222730984965037169701408771662919270303874559), Mod(11118696505694144874423458491598440977601973689790424733712010290749789542374, 19795792123893480164707100824397222730984965037169701408771662919270303874559)]"
      ]
     },
     "execution_count": 6,
     "metadata": {},
     "output_type": "execute_result"
    }
   ],
   "source": [
    "B = pari.ellmul(E , G[0], b )\n",
    "B"
   ]
  },
  {
   "cell_type": "code",
   "execution_count": 7,
   "id": "02c09ea9",
   "metadata": {},
   "outputs": [
    {
     "data": {
      "text/plain": [
       "[Mod(8219406185082579097609292889383425966420681921854095707681028840284107085711, 19795792123893480164707100824397222730984965037169701408771662919270303874559), Mod(2480495562503264044439220189450223904243715736870019294907404017718681508378, 19795792123893480164707100824397222730984965037169701408771662919270303874559)]"
      ]
     },
     "execution_count": 7,
     "metadata": {},
     "output_type": "execute_result"
    }
   ],
   "source": [
    "Kb = pari.ellmul(E , A , b )\n",
    "Kb"
   ]
  },
  {
   "cell_type": "code",
   "execution_count": null,
   "id": "a543d158",
   "metadata": {},
   "outputs": [],
   "source": []
  },
  {
   "cell_type": "code",
   "execution_count": 9,
   "id": "b3de5c61",
   "metadata": {},
   "outputs": [
    {
     "data": {
      "text/plain": [
       "True"
      ]
     },
     "execution_count": 9,
     "metadata": {},
     "output_type": "execute_result"
    }
   ],
   "source": [
    "Kb == Ka"
   ]
  },
  {
   "cell_type": "code",
   "execution_count": null,
   "id": "f087b5cc",
   "metadata": {},
   "outputs": [],
   "source": []
  },
  {
   "cell_type": "markdown",
   "id": "c992b7fd",
   "metadata": {},
   "source": [
    "# secp256k1"
   ]
  },
  {
   "cell_type": "raw",
   "id": "aef79b23",
   "metadata": {},
   "source": [
    "Les paramétres par défaut"
   ]
  },
  {
   "cell_type": "code",
   "execution_count": 1,
   "id": "46ac0b32",
   "metadata": {},
   "outputs": [],
   "source": [
    "from Crypto.PublicKey import ECC\n",
    "from ecpy.curves import Curve \n",
    "from sympy import primefactors"
   ]
  },
  {
   "cell_type": "code",
   "execution_count": 2,
   "id": "f42c9fba",
   "metadata": {},
   "outputs": [],
   "source": [
    "curve = Curve.get_curve('secp256k1')\n",
    "\n",
    "factors = primefactors(curve.order)\n",
    "\n",
    "p = factors[0]\n",
    "\n",
    "g_x = curve.generator.x  \n",
    "g_y = curve.generator.y  \n",
    "g = (int(g_x), int(g_y) )\n",
    "\n",
    "cardinality = curve.order"
   ]
  },
  {
   "cell_type": "code",
   "execution_count": 3,
   "id": "43223a32",
   "metadata": {},
   "outputs": [
    {
     "name": "stdout",
     "output_type": "stream",
     "text": [
      "P =  115792089237316195423570985008687907852837564279074904382605163141518161494337\n",
      "G =  (55066263022277343669578718895168534326250603453777594175500187360389116729240, 32670510020758816978083085130507043184471273380659243275938904335757337482424)\n",
      "ordre =  115792089237316195423570985008687907852837564279074904382605163141518161494337\n"
     ]
    }
   ],
   "source": [
    "print('P = ' , p )\n",
    "print('G = ' , g)\n",
    "print('ordre = ' , cardinality)"
   ]
  },
  {
   "cell_type": "code",
   "execution_count": null,
   "id": "deafb92a",
   "metadata": {},
   "outputs": [],
   "source": []
  },
  {
   "cell_type": "raw",
   "id": "288f9e23",
   "metadata": {},
   "source": [
    "Des bibliothéques prédifinies"
   ]
  },
  {
   "cell_type": "code",
   "execution_count": 1,
   "id": "104ab889",
   "metadata": {},
   "outputs": [],
   "source": [
    "from cryptography.hazmat.primitives.asymmetric import ec\n",
    "from cryptography.hazmat.backends import default_backend"
   ]
  },
  {
   "cell_type": "markdown",
   "id": "b831a204",
   "metadata": {},
   "source": [
    "# User A"
   ]
  },
  {
   "cell_type": "code",
   "execution_count": 2,
   "id": "ce959fcb",
   "metadata": {},
   "outputs": [],
   "source": [
    "# Génération des clés pour l'initiateur et le destinataire\n",
    "a = ec.generate_private_key(ec.SECP256K1, default_backend())\n",
    "A = a.public_key()"
   ]
  },
  {
   "cell_type": "code",
   "execution_count": 6,
   "id": "0dce7bf0",
   "metadata": {},
   "outputs": [],
   "source": [
    "# L'initiateur calcule la clé partagée\n",
    "shared_key_initiator = a.exchange(ec.ECDH(), B)"
   ]
  },
  {
   "cell_type": "code",
   "execution_count": null,
   "id": "f1a68ec6",
   "metadata": {},
   "outputs": [],
   "source": []
  },
  {
   "cell_type": "markdown",
   "id": "1a0e4d56",
   "metadata": {},
   "source": [
    "# User B"
   ]
  },
  {
   "cell_type": "code",
   "execution_count": 4,
   "id": "28b8169d",
   "metadata": {},
   "outputs": [],
   "source": [
    "b = ec.generate_private_key(ec.SECP256K1, default_backend())\n",
    "B = b.public_key()"
   ]
  },
  {
   "cell_type": "code",
   "execution_count": 5,
   "id": "3c69cbf0",
   "metadata": {},
   "outputs": [],
   "source": [
    "# Le destinataire calcule la clé partagée\n",
    "shared_key_recipient = b.exchange(ec.ECDH(), A)"
   ]
  },
  {
   "cell_type": "code",
   "execution_count": null,
   "id": "14c407a5",
   "metadata": {},
   "outputs": [],
   "source": []
  },
  {
   "cell_type": "code",
   "execution_count": 7,
   "id": "425cf321",
   "metadata": {},
   "outputs": [
    {
     "data": {
      "text/plain": [
       "True"
      ]
     },
     "execution_count": 7,
     "metadata": {},
     "output_type": "execute_result"
    }
   ],
   "source": [
    "shared_key_initiator.hex() == shared_key_recipient.hex()"
   ]
  },
  {
   "cell_type": "code",
   "execution_count": null,
   "id": "5207c025",
   "metadata": {},
   "outputs": [],
   "source": []
  }
 ],
 "metadata": {
  "kernelspec": {
   "display_name": "Python 3 (ipykernel)",
   "language": "python",
   "name": "python3"
  },
  "language_info": {
   "codemirror_mode": {
    "name": "ipython",
    "version": 3
   },
   "file_extension": ".py",
   "mimetype": "text/x-python",
   "name": "python",
   "nbconvert_exporter": "python",
   "pygments_lexer": "ipython3",
   "version": "3.10.4"
  }
 },
 "nbformat": 4,
 "nbformat_minor": 5
}
