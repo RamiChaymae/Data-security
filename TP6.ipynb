{
 "cells": [
  {
   "cell_type": "markdown",
   "id": "040acda4",
   "metadata": {},
   "source": [
    "# Exercice 1 "
   ]
  },
  {
   "cell_type": "code",
   "execution_count": 1,
   "id": "0ca737eb",
   "metadata": {},
   "outputs": [],
   "source": [
    "from cypari import pari\n",
    "import sympy as sp\n",
    "import random as rd\n",
    "import hashlib"
   ]
  },
  {
   "cell_type": "code",
   "execution_count": 2,
   "id": "338890eb",
   "metadata": {},
   "outputs": [],
   "source": [
    "P = 115792089237316195423570985008687907853269984665640564039457584007908834671663\n",
    "a = 0\n",
    "b = 7\n",
    "G = (55066263022277343669578718895168534326250603453777594175500187360389116729240, \n",
    "     32670510020758816978083085130507043184471273380659243275938904335757337482424)\n",
    "n = 115792089237316195423570985008687907852837564279074904382605163141518161494337"
   ]
  },
  {
   "cell_type": "code",
   "execution_count": 3,
   "id": "e02c2c53",
   "metadata": {},
   "outputs": [],
   "source": [
    "x = rd.randint(2,n-2)\n",
    "E = pari.ellinit([a, b],  P)\n",
    "B=pari.lift(pari.ellmul(E,G,x))"
   ]
  },
  {
   "cell_type": "code",
   "execution_count": 4,
   "id": "e580593e",
   "metadata": {},
   "outputs": [],
   "source": [
    "E = pari.ellinit([a, b],  P)"
   ]
  },
  {
   "cell_type": "code",
   "execution_count": 5,
   "id": "21be31ad",
   "metadata": {},
   "outputs": [
    {
     "data": {
      "text/plain": [
       "[113783826928625252419412943649407349461413579050184420232801747058421868787381, 88664015502624977050264472998429663728585450130589174851451675681025108874830]"
      ]
     },
     "execution_count": 5,
     "metadata": {},
     "output_type": "execute_result"
    }
   ],
   "source": [
    "B=pari.lift(pari.ellmul(E,G,x))\n",
    "B"
   ]
  },
  {
   "cell_type": "code",
   "execution_count": null,
   "id": "4af02e84",
   "metadata": {},
   "outputs": [],
   "source": []
  },
  {
   "cell_type": "code",
   "execution_count": 6,
   "id": "a58388e9",
   "metadata": {},
   "outputs": [],
   "source": [
    "def signer(text ) :\n",
    "    #calculer hach\n",
    "     \n",
    "    \n",
    "    r,s=0,0\n",
    "    \n",
    "    while r==0 or s==0 :\n",
    "        k = rd.randint(2,n-2)\n",
    "        \n",
    "        R=pari.ellmul(E,G,k)\n",
    "        r = pari.lift(R)[0]\n",
    "        \n",
    "        if ( r!=0 ) :\n",
    "            \n",
    "            s= (pow(k,-1,n) * (H+r*x) ) % n \n",
    "            if s!=0 :\n",
    "                return (r,s)"
   ]
  },
  {
   "cell_type": "code",
   "execution_count": 7,
   "id": "2d228054",
   "metadata": {},
   "outputs": [],
   "source": [
    "def verifier(text , r,s) :\n",
    "    #calculer hach\n",
    "    hashed_string = hashlib.sha256(text.encode('utf-8')).hexdigest()\n",
    "    H = int(hashed_string,16)\n",
    "    \n",
    "    w=pari.lift(pow(s,-1,n))\n",
    "\n",
    "    u1=pari.lift((H*w)%n)\n",
    "\n",
    "    u2=pari.lift((r*w)%n)\n",
    "    \n",
    "    X=pari.elladd(E, pari.ellmul(E,G,u1) , pari.ellmul(E,B,u2))\n",
    "    \n",
    "    return pari.lift(X[0] ) % n == r"
   ]
  },
  {
   "cell_type": "code",
   "execution_count": 8,
   "id": "67ce6c80",
   "metadata": {},
   "outputs": [],
   "source": [
    "text='hello'\n",
    "r , s = signer(text)\n",
    "verifier(text , r , s)"
   ]
  },
  {
   "cell_type": "code",
   "execution_count": 9,
   "id": "55b42029",
   "metadata": {},
   "outputs": [],
   "source": [
    "r , s = signer(text)"
   ]
  },
  {
   "cell_type": "code",
   "execution_count": 10,
   "id": "dd9f1054",
   "metadata": {},
   "outputs": [
    {
     "data": {
      "text/plain": [
       "True"
      ]
     },
     "execution_count": 10,
     "metadata": {},
     "output_type": "execute_result"
    }
   ],
   "source": [
    "verifier(text , r , s)"
   ]
  },
  {
   "cell_type": "code",
   "execution_count": null,
   "id": "6ce15e3b",
   "metadata": {},
   "outputs": [],
   "source": []
  },
  {
   "cell_type": "markdown",
   "id": "90c6318e",
   "metadata": {},
   "source": [
    "# Consensus mechanisms "
   ]
  },
  {
   "cell_type": "code",
   "execution_count": 11,
   "id": "f4894435",
   "metadata": {},
   "outputs": [],
   "source": [
    "import hashlib\n",
    "import psutil\n",
    "import time"
   ]
  },
  {
   "cell_type": "code",
   "execution_count": 12,
   "id": "4d4c61fa",
   "metadata": {},
   "outputs": [],
   "source": [
    "def hash_transaction(transaction, difficulté ):\n",
    "    nonce = 0\n",
    "    zero = '0' * difficulté\n",
    "    \n",
    "    while True:\n",
    "        T = f\"{transaction}{nonce}\"\n",
    "        \n",
    "        H = hashlib.sha256(T.encode('utf-8')).hexdigest()\n",
    "    \n",
    "        if H.startswith(zero):\n",
    "            return H \n",
    "        \n",
    "        nonce += 1"
   ]
  },
  {
   "cell_type": "code",
   "execution_count": 13,
   "id": "535af0af",
   "metadata": {},
   "outputs": [
    {
     "name": "stdout",
     "output_type": "stream",
     "text": [
      "Difficulté : 1\n",
      "Hachage : 09e15beb5906dc6e1b2284cc61ed8e3cf16b3e456bcebfaf630e1110c79343aa\n",
      "La consommation de temps : 0.002994537353515625 secondes\n",
      "La consommation d' energie : -182.25 joules\n",
      "---------------------------------------\n",
      "Difficulté : 2\n",
      "Hachage : 00f775c18dd0ac1f106f35f393a8757c6b064246710ca8221b5e12e8ae4c2f87\n",
      "La consommation de temps : 0.0019981861114501953 secondes\n",
      "La consommation d' energie : 507.8125 joules\n",
      "---------------------------------------\n",
      "Difficulté : 3\n",
      "Hachage : 000a20ad7c4388664715430c27a8e7943c4b34b6855946d5f713e8a64d7509ef\n",
      "La consommation de temps : 0.008977651596069336 secondes\n",
      "La consommation d' energie : 0.0 joules\n",
      "---------------------------------------\n",
      "Difficulté : 4\n",
      "Hachage : 00003a4e25ee52e7e04b76ed61e9ed8d1fa65053c5065882fd206bd34cfc7320\n",
      "La consommation de temps : 0.5066390037536621 secondes\n",
      "La consommation d' energie : 246.28125 joules\n",
      "---------------------------------------\n",
      "Difficulté : 5\n",
      "Hachage : 0000018054e16fc4bed588d9904825773c0e8f8e78afc7b19ef86dbb6db608d6\n",
      "La consommation de temps : 2.005356788635254 secondes\n",
      "La consommation d' energie : 277.4484375 joules\n",
      "---------------------------------------\n",
      "Difficulté : 6\n",
      "Hachage : 000000b99cfdeb1abb65ec6d8225a5c5876bbba91ce08a2808808a6afa048912\n",
      "La consommation de temps : 209.02984976768494 secondes\n",
      "La consommation d' energie : 8895.787499999999 joules\n",
      "---------------------------------------\n",
      "Difficulté : 7\n",
      "Hachage : 0000000d0dcd0c6efa7351f13de41da199ab3abbed63b09c0d5009b5d009247a\n",
      "La consommation de temps : 466.1859390735626 secondes\n",
      "La consommation d' energie : 34643.640625 joules\n",
      "---------------------------------------\n"
     ]
    }
   ],
   "source": [
    "# Transaction à hasher\n",
    "transaction = \"Exemple de transaction\"\n",
    "\n",
    "# Niveaux de difficulté\n",
    "difficulties = [1, 2, 3, 4 , 5 , 6 , 7 ]\n",
    "\n",
    "for difficulty in difficulties:\n",
    "    # Mesure de l'utilisation du processeur avant l'exécution du code\n",
    "    cpu_before = psutil.cpu_percent(interval=None)\n",
    "    t1= time.time()\n",
    "    \n",
    "    \n",
    "    print(f\"Difficulté : {difficulty}\")\n",
    "    hash_result = hash_transaction(transaction, difficulty)\n",
    "    print(f\"Hachage : {hash_result}\")\n",
    "  \n",
    "\n",
    "    # Mesure de l'utilisation du processeur après l'exécution du code\n",
    "    cpu_after = psutil.cpu_percent(interval=None)\n",
    "\n",
    "    print(f\"La consommation de temps : {time.time() - t1 } secondes\")\n",
    "    print(f\"La consommation d' energie : { (cpu_after - cpu_before ) * time.process_time()  } joules\")\n",
    "    \n",
    "    print(\"---------------------------------------\")\n"
   ]
  },
  {
   "cell_type": "code",
   "execution_count": null,
   "id": "fb93e12c",
   "metadata": {},
   "outputs": [],
   "source": []
  }
 ],
 "metadata": {
  "kernelspec": {
   "display_name": "Python 3 (ipykernel)",
   "language": "python",
   "name": "python3"
  },
  "language_info": {
   "codemirror_mode": {
    "name": "ipython",
    "version": 3
   },
   "file_extension": ".py",
   "mimetype": "text/x-python",
   "name": "python",
   "nbconvert_exporter": "python",
   "pygments_lexer": "ipython3",
   "version": "3.10.4"
  }
 },
 "nbformat": 4,
 "nbformat_minor": 5
}
