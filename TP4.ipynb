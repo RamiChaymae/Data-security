{
 "cells": [
  {
   "cell_type": "code",
   "execution_count": 5,
   "id": "de5cd4fc",
   "metadata": {},
   "outputs": [],
   "source": [
    "import hashlib\n",
    "from random import randint , randrange\n",
    "from math import gcd\n",
    "import sympy as sn"
   ]
  },
  {
   "cell_type": "markdown",
   "id": "ec3218da",
   "metadata": {},
   "source": [
    "# Exercice 1"
   ]
  },
  {
   "cell_type": "markdown",
   "id": "ffffb4f0",
   "metadata": {},
   "source": [
    "# RSA"
   ]
  },
  {
   "cell_type": "code",
   "execution_count": 2,
   "id": "23fe20f0",
   "metadata": {},
   "outputs": [],
   "source": [
    "def generer(nb) :\n",
    "    #generer deux nombre premier distinctes de nb bits\n",
    "    p,q = 1,1\n",
    "    while p==q:  \n",
    "        p=sn.randprime( 2**nb , 2**(nb+1) -1 )\n",
    "        q=sn.randprime( 2**nb , 2**(nb+1) -1 )\n",
    "        \n",
    "        \n",
    "    #caluler n\n",
    "    n=q*p\n",
    "    \n",
    "    #calculer fi(n)\n",
    "    fi = (q-1)*(p-1)\n",
    "    \n",
    "    #trouver un entier e telque pgcd( e , fi(n) ) = 1\n",
    "    e=pow(2,16)+1\n",
    "    \n",
    "    #calculer d\n",
    "    d= pow(e,-1 , fi )\n",
    "    \n",
    "    return (n,e), (n,d)"
   ]
  },
  {
   "cell_type": "code",
   "execution_count": 3,
   "id": "e9f01fac",
   "metadata": {},
   "outputs": [],
   "source": [
    "def chiffrer( text , cle_pr ) :\n",
    "    #calculer hach\n",
    "    hashed_string = hashlib.sha256(text.encode('utf-8')).hexdigest()\n",
    "    \n",
    "    #calculer signature\n",
    "    s=  pow( int(hashed_string , 16 ) , cle_pr[1] , cle_pr[0] )\n",
    "    \n",
    "    return s"
   ]
  },
  {
   "cell_type": "code",
   "execution_count": 4,
   "id": "ee7fe916",
   "metadata": {},
   "outputs": [],
   "source": [
    " def dechiffrer( text , signature , cle_pub ) :\n",
    "    #calculer hach de text\n",
    "    hashed_string = hashlib.sha256(text.encode('utf-8')).hexdigest()\n",
    "    \n",
    "    #dechiffrer la sigature\n",
    "    h = pow( signature , cle_pub[1] , cle_pub[0])\n",
    "    \n",
    "    return h==int(hashed_string , 16 )"
   ]
  },
  {
   "cell_type": "code",
   "execution_count": 5,
   "id": "55af7281",
   "metadata": {},
   "outputs": [],
   "source": [
    "text = 'Hello word'\n",
    "\n",
    "cle_pub , cle_pr = generer(1024)"
   ]
  },
  {
   "cell_type": "code",
   "execution_count": 6,
   "id": "06221856",
   "metadata": {},
   "outputs": [],
   "source": [
    "s = chiffrer(text , cle_pr)"
   ]
  },
  {
   "cell_type": "code",
   "execution_count": 7,
   "id": "d8dd9682",
   "metadata": {},
   "outputs": [
    {
     "name": "stdout",
     "output_type": "stream",
     "text": [
      "La signature numériue est :  87088358710130393013729435620986598972097664808153868271470704976602603149470067957360046675613413507597646232990293189848967229793617829872130967599693485883855486697714008271795451749875792114805455668370405667246938874363950980530078124583342582651814323121642406706136567317436803348461444740972604835133952339378614923577857266874744195229489547513132233959345136321198780215229076914262962934991666194506931735720442320861411158711088794597815287799175509682575278174750073099856985631269623023244714479888395377831951575516555329368405676163840977914124433246959228279305422824996479148737350032876871576701823\n"
     ]
    }
   ],
   "source": [
    "print('La signature numériue est : ' , s )"
   ]
  },
  {
   "cell_type": "code",
   "execution_count": 8,
   "id": "fcf90c00",
   "metadata": {},
   "outputs": [
    {
     "data": {
      "text/plain": [
       "True"
      ]
     },
     "execution_count": 8,
     "metadata": {},
     "output_type": "execute_result"
    }
   ],
   "source": [
    "dechiffrer( text , s , cle_pub)"
   ]
  },
  {
   "cell_type": "markdown",
   "id": "a1c78072",
   "metadata": {},
   "source": [
    "# CRT-RSA"
   ]
  },
  {
   "cell_type": "code",
   "execution_count": 9,
   "id": "911595e6",
   "metadata": {},
   "outputs": [],
   "source": [
    "def generer_crt(nb) :\n",
    "    \n",
    "    #generer 2 nombres premiers\n",
    "    p=sn.randprime( 2**nb , 2**(nb+1) -1 )\n",
    "    q=sn.randprime( 2**nb , 2**(nb+1) -1 )\n",
    "    \n",
    "    #calculer n = p*q\n",
    "    n=p*q\n",
    "    \n",
    "    \n",
    "    e=pow(2,16)+1\n",
    "    \n",
    "    dp = pow ( e , -1 , p-1 )\n",
    "    dq = pow ( e , -1 , q-1 )\n",
    "    \n",
    "    \n",
    "    return (n,e)  , (p, q, dp, dq) "
   ]
  },
  {
   "cell_type": "code",
   "execution_count": 10,
   "id": "5a8f5e60",
   "metadata": {},
   "outputs": [],
   "source": [
    "def chiffrer( text , cle_pr ) :\n",
    "    #calculer hach\n",
    "    hashed_string = hashlib.sha256(text.encode('utf-8')).hexdigest()\n",
    "    #hash en decimal\n",
    "    i=int(hashed_string , 16 )\n",
    "    \n",
    "    #calculer signature\n",
    "    mp = pow( i, cle_pr[2] , cle_pr[0] )\n",
    "    mq = pow( i, cle_pr[3] , cle_pr[1] )\n",
    "        \n",
    "    q_inv = pow(cle_pr[1] , -1 , cle_pr[0])\n",
    "        \n",
    "    h = q_inv * (mp - mq)\n",
    "        \n",
    "    m = mq + cle_pr[1]*h\n",
    "    \n",
    "    return m"
   ]
  },
  {
   "cell_type": "code",
   "execution_count": 11,
   "id": "100a01ef",
   "metadata": {},
   "outputs": [],
   "source": [
    "cle_pub , cle_pr = generer_crt(1024)"
   ]
  },
  {
   "cell_type": "code",
   "execution_count": 12,
   "id": "4c82d136",
   "metadata": {},
   "outputs": [],
   "source": [
    "text = 'hello'"
   ]
  },
  {
   "cell_type": "code",
   "execution_count": 13,
   "id": "7806057a",
   "metadata": {},
   "outputs": [
    {
     "data": {
      "text/plain": [
       "1184460188628075804495210779691015907668101144447556311978987779820242197877717228621236623738380294496687020885496308976601205845777321599471155785642732351371736848967137742338215928586760803904654319669345556269368636772940491731015612929667085389508104099851703962100684611194376851027174244649131022159589741712311927659312020928809933184616739720784215758241949716300496897818480205278647763203613300106752129215712627127450865488671189838082173732638257245305761129922395727188258779002167773697522001618656524278528773908997253966076542964784580125942817303578551515234367659048914217756446296332526954260307577748642347789010187019637785018892523351643188410288564134791583239375964106532761902982655844340330722975703197742236294473570302422062624037504848116193368311225082946138409566141173098556123515268016023309001669829027183420994824766245274529770063701769155320274188852086546074979428712040111857059902711"
      ]
     },
     "execution_count": 13,
     "metadata": {},
     "output_type": "execute_result"
    }
   ],
   "source": [
    "s = chiffrer(text ,cle_pr)\n",
    "s"
   ]
  },
  {
   "cell_type": "code",
   "execution_count": 14,
   "id": "df571a92",
   "metadata": {},
   "outputs": [
    {
     "data": {
      "text/plain": [
       "True"
      ]
     },
     "execution_count": 14,
     "metadata": {},
     "output_type": "execute_result"
    }
   ],
   "source": [
    "dechiffrer( text , s , cle_pub)"
   ]
  },
  {
   "cell_type": "code",
   "execution_count": null,
   "id": "21551260",
   "metadata": {},
   "outputs": [],
   "source": []
  },
  {
   "cell_type": "markdown",
   "id": "91151b60",
   "metadata": {},
   "source": [
    "# DSA"
   ]
  },
  {
   "cell_type": "code",
   "execution_count": 10,
   "id": "c8a3189d",
   "metadata": {},
   "outputs": [],
   "source": [
    "def parameter_generation():\n",
    "\n",
    "    # primes of 8 bits in length in binary\n",
    "    p=0\n",
    "    while ( sn.isprime(p) == False ) :\n",
    "        k = randint(2**10 , 2**11 - 1 )\n",
    "        q= sn.randprime( 2**10, 2**11 - 1)\n",
    "        p=k*q+1\n",
    "         \n",
    "    a=1\n",
    "    while(a==1):\n",
    "        h = randint(1 , p-1 )\n",
    "        a=pow(h,int((p-1)/q) ,p)\n",
    "       \n",
    "    d=randint(1,q-1)\n",
    "\n",
    "    b=pow(a,d,p)\n",
    "       \n",
    "    return(p,q,a,b) , (d)"
   ]
  },
  {
   "cell_type": "code",
   "execution_count": 11,
   "id": "a1163d6f",
   "metadata": {},
   "outputs": [],
   "source": [
    "def signature(text,p,q,a,d):\n",
    "    hashed = hashlib.sha256(text.encode('utf-8')).hexdigest()\n",
    "    i =int(hashed , 16 ) \n",
    "     \n",
    "    k=randint(1,q-1)\n",
    "    r=pow(a,k,p)%q\n",
    "    print('R --> ' , r)\n",
    "    \n",
    "    s=(pow(k,-1 , q)*(i+(d*r)))%q\n",
    "    print('S --> ' , s)\n",
    "    \n",
    "    return(r,s)"
   ]
  },
  {
   "cell_type": "code",
   "execution_count": 12,
   "id": "9b33bc6b",
   "metadata": {},
   "outputs": [],
   "source": [
    "def verification(text,p,q,a,r,s,y):\n",
    "    \n",
    "    hashed = hashlib.sha256(text.encode('utf-8')).hexdigest()\n",
    "    i =int(hashed , 16 ) \n",
    "\n",
    "    # computing w\n",
    "    w=pow(s,-1 , q)\n",
    "    \n",
    "\n",
    "    # computing u1, u2 and v\n",
    "    u1=(i*w)%q \n",
    "    u2=(r*w)%q\n",
    "    v=(pow(a,u1,p)*pow(y,u2 ,p)) % p %q\n",
    "    \n",
    "\n",
    "    print('V --> ' , v)\n",
    "    return v == r \n"
   ]
  },
  {
   "cell_type": "code",
   "execution_count": 13,
   "id": "83eaaa66",
   "metadata": {},
   "outputs": [
    {
     "name": "stdout",
     "output_type": "stream",
     "text": [
      "R -->  1449\n",
      "S -->  724\n",
      "V -->  1449\n"
     ]
    },
    {
     "data": {
      "text/plain": [
       "True"
      ]
     },
     "execution_count": 13,
     "metadata": {},
     "output_type": "execute_result"
    }
   ],
   "source": [
    "(p,q,a,b) , (d) =parameter_generation()\n",
    "\n",
    "text = 'hello'\n",
    "components=signature(text,p,q,a,d)\n",
    "\n",
    "verification(text,p,q,a,components[0],components[1],b)"
   ]
  },
  {
   "cell_type": "code",
   "execution_count": null,
   "id": "c1676491",
   "metadata": {},
   "outputs": [],
   "source": []
  }
 ],
 "metadata": {
  "kernelspec": {
   "display_name": "Python 3 (ipykernel)",
   "language": "python",
   "name": "python3"
  },
  "language_info": {
   "codemirror_mode": {
    "name": "ipython",
    "version": 3
   },
   "file_extension": ".py",
   "mimetype": "text/x-python",
   "name": "python",
   "nbconvert_exporter": "python",
   "pygments_lexer": "ipython3",
   "version": "3.10.4"
  }
 },
 "nbformat": 4,
 "nbformat_minor": 5
}
