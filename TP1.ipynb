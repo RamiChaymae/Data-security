{
 "cells": [
  {
   "cell_type": "markdown",
   "id": "97786aae",
   "metadata": {},
   "source": [
    "# CESAR"
   ]
  },
  {
   "cell_type": "code",
   "execution_count": 1,
   "id": "725bacab",
   "metadata": {},
   "outputs": [],
   "source": [
    "def chiffrer_cesar(text , cle ) :\n",
    "    chiff=[]\n",
    "    for i in list( text.upper()) :\n",
    "        if i.isalpha() :\n",
    "            num_chiffre = (ord(i)+ord(cle)) %26\n",
    "            chiff.append( chr( num_chiffre + 65 ))\n",
    "        else :\n",
    "            chiff.append( i )\n",
    "    return ''.join(chiff)"
   ]
  },
  {
   "cell_type": "code",
   "execution_count": 2,
   "id": "f4b010a2",
   "metadata": {},
   "outputs": [],
   "source": [
    "def dechiffrer_cesar( text , cle ) :\n",
    "    dechiff=[]\n",
    "    for i in list( text.upper() ) :\n",
    "        if i.isalpha() :\n",
    "            num_dechiffre = (ord(i)-ord(cle)) %26\n",
    "            dechiff.append( chr( num_dechiffre + 65 ))\n",
    "        else :\n",
    "            dechiff.append( i )\n",
    "    return ''.join(dechiff)"
   ]
  },
  {
   "cell_type": "code",
   "execution_count": 3,
   "id": "cfb5d797",
   "metadata": {},
   "outputs": [
    {
     "data": {
      "text/plain": [
       "'XIXN'"
      ]
     },
     "execution_count": 3,
     "metadata": {},
     "output_type": "execute_result"
    }
   ],
   "source": [
    "text = chiffrer_cesar('SDSI' , 'F')\n",
    "text"
   ]
  },
  {
   "cell_type": "code",
   "execution_count": 4,
   "id": "015ac101",
   "metadata": {},
   "outputs": [
    {
     "data": {
      "text/plain": [
       "'SDSI'"
      ]
     },
     "execution_count": 4,
     "metadata": {},
     "output_type": "execute_result"
    }
   ],
   "source": [
    "dechiffrer_cesar(text , 'F')"
   ]
  },
  {
   "cell_type": "code",
   "execution_count": null,
   "id": "2f007b82",
   "metadata": {},
   "outputs": [],
   "source": []
  },
  {
   "cell_type": "markdown",
   "id": "cc41b2cb",
   "metadata": {},
   "source": [
    "# Analyse fréquentielle"
   ]
  },
  {
   "cell_type": "code",
   "execution_count": 5,
   "id": "0f80b335",
   "metadata": {},
   "outputs": [],
   "source": [
    "def analyse_Kindi( text , c ) :\n",
    "    text=text.upper()\n",
    "    \n",
    "    alphabet='ABCDEFGHIJKLMNOPQRSTUVWXYZ'\n",
    "    \n",
    "    compter = [ text.count(i) for i in alphabet ]\n",
    "    \n",
    "    i = compter.index(max(compter))\n",
    "    \n",
    "    return chr ( ord(alphabet[i]) - ord(c) + 65  )"
   ]
  },
  {
   "cell_type": "code",
   "execution_count": 6,
   "id": "1f304ae3",
   "metadata": {},
   "outputs": [
    {
     "name": "stdout",
     "output_type": "stream",
     "text": [
      "T\n"
     ]
    }
   ],
   "source": [
    "text='FTLMXK HY WTMT LVBXGVX TGW BGMXEEBZXGM LRLMXFL'\n",
    "cle = analyse_Kindi( text , 'E')\n",
    "print(cle)"
   ]
  },
  {
   "cell_type": "code",
   "execution_count": 7,
   "id": "344738b4",
   "metadata": {},
   "outputs": [
    {
     "data": {
      "text/plain": [
       "'MASTER OF DATA SCIENCE AND INTELLIGENT SYSTEMS'"
      ]
     },
     "execution_count": 7,
     "metadata": {},
     "output_type": "execute_result"
    }
   ],
   "source": [
    "dechiffrer_cesar( text , cle )"
   ]
  },
  {
   "cell_type": "code",
   "execution_count": null,
   "id": "328ad7ae",
   "metadata": {},
   "outputs": [],
   "source": []
  },
  {
   "cell_type": "markdown",
   "id": "f6b7556d",
   "metadata": {},
   "source": [
    "# Vigenere"
   ]
  },
  {
   "cell_type": "markdown",
   "id": "b7be22ea",
   "metadata": {},
   "source": [
    "# Tableau de Vigenére"
   ]
  },
  {
   "cell_type": "code",
   "execution_count": 8,
   "id": "75167bdf",
   "metadata": {},
   "outputs": [],
   "source": [
    "def tableauVig() :\n",
    "    L=[]\n",
    "    for i in range(26) :\n",
    "        l=[]\n",
    "        for j in range(26) :\n",
    "            k = ((i+j)%26)+65\n",
    "            l.append(chr(k))\n",
    "        L.append(l)\n",
    "    return L"
   ]
  },
  {
   "cell_type": "code",
   "execution_count": 9,
   "id": "9dbe41ec",
   "metadata": {},
   "outputs": [],
   "source": [
    "def chercher( text , cle , matrice , cryp ) :\n",
    "    if cryp == True :\n",
    "        return matrice[ord(text)-65][ord(cle)-65]\n",
    "    else : \n",
    "        index = matrice[ord(cle)-65].index(text)\n",
    "        return chr(index+65)"
   ]
  },
  {
   "cell_type": "code",
   "execution_count": 10,
   "id": "5efd5f6e",
   "metadata": {},
   "outputs": [],
   "source": [
    "def chiffrer( text , cle ) :\n",
    "    m=tableauVig()\n",
    "    text = text.upper()\n",
    "    return ''.join([ chercher( text[i] , cle[ i % len(cle)] , m  , True ) for i in range(len(text))])"
   ]
  },
  {
   "cell_type": "code",
   "execution_count": 11,
   "id": "188de349",
   "metadata": {},
   "outputs": [],
   "source": [
    "def dechiffrer( text , cle ) :\n",
    "    m=tableauVig()\n",
    "    text = text.upper()\n",
    "    return ''.join([chercher( text[i] , cle[ i % len(cle)] , m  , False )  for i in range(len(text))])"
   ]
  },
  {
   "cell_type": "code",
   "execution_count": 12,
   "id": "71241a3c",
   "metadata": {},
   "outputs": [
    {
     "data": {
      "text/plain": [
       "'XTPZGVYTQJHQTCAJTF'"
      ]
     },
     "execution_count": 12,
     "metadata": {},
     "output_type": "execute_result"
    }
   ],
   "source": [
    "txt_chiffre = chiffrer('SECURITEDESDONNEES' , 'FPN')\n",
    "txt_chiffre"
   ]
  },
  {
   "cell_type": "code",
   "execution_count": 13,
   "id": "08bcb642",
   "metadata": {},
   "outputs": [
    {
     "data": {
      "text/plain": [
       "'SECURITEDESDONNEES'"
      ]
     },
     "execution_count": 13,
     "metadata": {},
     "output_type": "execute_result"
    }
   ],
   "source": [
    "dechiffrer( txt_chiffre , 'FPN')"
   ]
  },
  {
   "cell_type": "code",
   "execution_count": null,
   "id": "979104b7",
   "metadata": {},
   "outputs": [],
   "source": []
  },
  {
   "cell_type": "code",
   "execution_count": null,
   "id": "d811a007",
   "metadata": {},
   "outputs": [],
   "source": []
  },
  {
   "cell_type": "markdown",
   "id": "5d094421",
   "metadata": {},
   "source": [
    "# Addition/soustraction de lettres"
   ]
  },
  {
   "cell_type": "code",
   "execution_count": 14,
   "id": "daba10b7",
   "metadata": {},
   "outputs": [],
   "source": [
    "def chiffrer(text , cle ) :\n",
    "    text = list(text) \n",
    "    return ''.join( [ chiffrer_cesar(text[i] , cle[i%len(cle)]) for i in range( len(text) ) ] )"
   ]
  },
  {
   "cell_type": "code",
   "execution_count": 15,
   "id": "b92801ce",
   "metadata": {},
   "outputs": [],
   "source": [
    "def dechiffrer( text  , cle ) : \n",
    "    text = list(text) \n",
    "    return ''.join( [ dechiffrer_cesar( text[i] , cle[i%len(cle)] ) for i in range( len(text) ) ] )"
   ]
  },
  {
   "cell_type": "code",
   "execution_count": 16,
   "id": "52c412c1",
   "metadata": {},
   "outputs": [
    {
     "data": {
      "text/plain": [
       "'XSFN'"
      ]
     },
     "execution_count": 16,
     "metadata": {},
     "output_type": "execute_result"
    }
   ],
   "source": [
    "txt_chiffre = chiffrer('SDSI' , 'FPN')\n",
    "txt_chiffre"
   ]
  },
  {
   "cell_type": "code",
   "execution_count": 17,
   "id": "cf207ed7",
   "metadata": {},
   "outputs": [
    {
     "data": {
      "text/plain": [
       "'SDSI'"
      ]
     },
     "execution_count": 17,
     "metadata": {},
     "output_type": "execute_result"
    }
   ],
   "source": [
    "dechiffrer(txt_chiffre , 'FPN')"
   ]
  },
  {
   "cell_type": "code",
   "execution_count": null,
   "id": "c0d81a78",
   "metadata": {},
   "outputs": [],
   "source": []
  },
  {
   "cell_type": "code",
   "execution_count": null,
   "id": "b41ebdc3",
   "metadata": {},
   "outputs": [],
   "source": []
  },
  {
   "cell_type": "markdown",
   "id": "12440888",
   "metadata": {},
   "source": [
    "# Cryptoanalyse de Vegerene"
   ]
  },
  {
   "cell_type": "code",
   "execution_count": 26,
   "id": "63b697d5",
   "metadata": {},
   "outputs": [],
   "source": [
    "def calculer_IC (code, pas):\n",
    "    \"\"\"\n",
    "        calcule l'indice de coincidence de 'code'\n",
    "        en decoupant'code' en 'pas' sous-textes\n",
    "    \"\"\"\n",
    "    \n",
    "    somme = lambda nb : nb * (nb - 1)\n",
    "    \n",
    "    IC = []\n",
    "    for i in range (pas):\n",
    "        print(\"hello\")\n",
    "        nb_lettre = [0] * 26\n",
    "        print(code [i::pas])\n",
    "        for compteur, lettre in enumerate(code [i::pas]):\n",
    "            \n",
    "            nb_lettre [ord(lettre)- 65] += 1\n",
    "        IC.append(sum(map(somme, nb_lettre)) / float(compteur * (compteur + 1)))\n",
    "    \n",
    "    print( 'IC',i , ' ----> ' , sum(IC) / float(len(IC)) )\n",
    "    \n",
    "    return sum(IC) / float(len(IC))"
   ]
  },
  {
   "cell_type": "code",
   "execution_count": 27,
   "id": "53739149",
   "metadata": {},
   "outputs": [],
   "source": [
    "def cle(code, plancher = 0.065):\n",
    "    cl = ''\n",
    "    code = code.upper()\n",
    "    pas = 1\n",
    "    while calculer_IC (code, pas) < plancher :\n",
    "        pas += 1\n",
    "    \n",
    "    code_fractionne = [code[dep::pas] for dep in range (pas)]\n",
    "    \n",
    "    \n",
    "    code_fractionne_decode=[]\n",
    "    \n",
    "    print('-------------------------------------------------')\n",
    "    print( \"La taille de la cle est \" ,  len(code_fractionne))\n",
    "    for bout in code_fractionne  :\n",
    "        cl+=analyse_Kindi( bout ,  'E') \n",
    "    print('\\n\\n\\n-------------------------------------------------')\n",
    "    print('Le clé utilisé est : ' , cl )\n",
    "    \n",
    "    print('\\n\\n\\n-------------------------------------------------')\n",
    "    return cl"
   ]
  },
  {
   "cell_type": "code",
   "execution_count": 28,
   "id": "245793bd",
   "metadata": {},
   "outputs": [],
   "source": [
    "txt='IPAKOWLTBNAQWNNCNFFAMWAVSHKBZIVDLKOJEBMUDISPYQVWLJSBFQYMXSREDJKMVYSSJOAXFARFLJHGWQVISRRKHLTFSTLHUBNDAVHDIKGNMGWTNPRKWYOFAREHFBZIVDLKOJSNFVDMXIESQKXTGGKSGCWPZYOAWWTEDDKOHJEAWYZTJGAIJMJICGXJLLKRDRHXJGQWVNOMXPMOWAFJGGQGUJHQSQKTJHQGPSQSTFVHDIXVPMUABLTGVHDIIVSWQKMQXNWVLCYXYAVYMUDHJOSVFALKHVMIDAFJWAITEWQKMNVAWPWVYANVJLMHIVGQVMRTASFWAJIYSVMZATVDOSVHTQWVXZTCGAIJMXTYDHWAYVTSOWUJCGMWATNHTWSGCWPZYOAWWTEDDICFAVLJVMAXRVHKXJGFGQFMXWNFGAKFETWVWVUTEEHLBFCGHDJMCTZHOWFITFHHJATCAWVSBYTVFWWAITGJRMJQTFVHDIUPEGOWLJRBEPMVNFHWUHTZHSSFATJBRFWSDJRYWXJMSKVJRFVJBRFWUMUTAVDFBQXNKRMTKKRYJSTJBRFWVMXEEYRUKZENLLGVXVGZLICJHRLMMZNSVIXWANBCGULISIRKSSZJMRESDMQPDMHKBNDAVHDIAXRHUADLTRKWMVXJWWWVMUGTGFUCUPGARFUFYRMUUIWARKDDOTGVLKEMXSRDLSXJJIWQLPYGRMWATNHTKSGCWRBDOWKYTEWWSVFALKHJLJHQGQFOJHCWUKWSCRDOWACVESQVMLRUWODMQPDMHKBNDAVHDIYGNFVHIWTAUHWAYVTSOWUJCGAPHWWINFWWKFGYWVVOHXFARFAUGVKHKXFGYWVKGXISEHKLNPCWXNMSIULUWLNUSAFATJHKUREXWTAVUWMYMRPSDQVJRJGWXQJFDDICJHGARFLJANJHKXTCFSEATNITWVLCSHHBHLLJSTTDLKFGYWVVOHXFARFAUGVKHKXFGYWVKGXISEHKLNPCWXNMSINNRAZITFURFALFHWQUMXXZHRJBFCGWVHWZGYWVAVIXIAGMAJIYWVGZLPAAVSBNDAKHFNNCQWFGUUIRDLSWKUEWGWAFKNFWSOJHPGQKQIVESEDMXTALHJUJHQWIXQHPPAWYLJEEYFAANDAWWVMUGBVXUBNKVLJWTQTBMYJMLVNDHEMSIQWQGCATYDHKXJGFHHUBNKRKSGCWAVFQGDFIVGQWBQPPJJSBNKVLJUMUTAVDFBJAYWGGQYWGJHMBNAVKJWLJBNFLXZJGRKSGVXPODHWBLIUATMMUDHJSJWYVTWUDMXSEGLLAJIYSYAMUGVNJWLJHVFGADNSHKHLXTJEYDJISIVJTMMQTFSYSVYPTWVVMQXNHUGNNIRFWPTJCFWPTTJSRDDKWHXTLJ'"
   ]
  },
  {
   "cell_type": "code",
   "execution_count": 29,
   "id": "81aceade",
   "metadata": {},
   "outputs": [
    {
     "name": "stdout",
     "output_type": "stream",
     "text": [
      "hello\n",
      "IPAKOWLTBNAQWNNCNFFAMWAVSHKBZIVDLKOJEBMUDISPYQVWLJSBFQYMXSREDJKMVYSSJOAXFARFLJHGWQVISRRKHLTFSTLHUBNDAVHDIKGNMGWTNPRKWYOFAREHFBZIVDLKOJSNFVDMXIESQKXTGGKSGCWPZYOAWWTEDDKOHJEAWYZTJGAIJMJICGXJLLKRDRHXJGQWVNOMXPMOWAFJGGQGUJHQSQKTJHQGPSQSTFVHDIXVPMUABLTGVHDIIVSWQKMQXNWVLCYXYAVYMUDHJOSVFALKHVMIDAFJWAITEWQKMNVAWPWVYANVJLMHIVGQVMRTASFWAJIYSVMZATVDOSVHTQWVXZTCGAIJMXTYDHWAYVTSOWUJCGMWATNHTWSGCWPZYOAWWTEDDICFAVLJVMAXRVHKXJGFGQFMXWNFGAKFETWVWVUTEEHLBFCGHDJMCTZHOWFITFHHJATCAWVSBYTVFWWAITGJRMJQTFVHDIUPEGOWLJRBEPMVNFHWUHTZHSSFATJBRFWSDJRYWXJMSKVJRFVJBRFWUMUTAVDFBQXNKRMTKKRYJSTJBRFWVMXEEYRUKZENLLGVXVGZLICJHRLMMZNSVIXWANBCGULISIRKSSZJMRESDMQPDMHKBNDAVHDIAXRHUADLTRKWMVXJWWWVMUGTGFUCUPGARFUFYRMUUIWARKDDOTGVLKEMXSRDLSXJJIWQLPYGRMWATNHTKSGCWRBDOWKYTEWWSVFALKHJLJHQGQFOJHCWUKWSCRDOWACVESQVMLRUWODMQPDMHKBNDAVHDIYGNFVHIWTAUHWAYVTSOWUJCGAPHWWINFWWKFGYWVVOHXFARFAUGVKHKXFGYWVKGXISEHKLNPCWXNMSIULUWLNUSAFATJHKUREXWTAVUWMYMRPSDQVJRJGWXQJFDDICJHGARFLJANJHKXTCFSEATNITWVLCSHHBHLLJSTTDLKFGYWVVOHXFARFAUGVKHKXFGYWVKGXISEHKLNPCWXNMSINNRAZITFURFALFHWQUMXXZHRJBFCGWVHWZGYWVAVIXIAGMAJIYWVGZLPAAVSBNDAKHFNNCQWFGUUIRDLSWKUEWGWAFKNFWSOJHPGQKQIVESEDMXTALHJUJHQWIXQHPPAWYLJEEYFAANDAWWVMUGBVXUBNKVLJWTQTBMYJMLVNDHEMSIQWQGCATYDHKXJGFHHUBNKRKSGCWAVFQGDFIVGQWBQPPJJSBNKVLJUMUTAVDFBJAYWGGQYWGJHMBNAVKJWLJBNFLXZJGRKSGVXPODHWBLIUATMMUDHJSJWYVTWUDMXSEGLLAJIYSYAMUGVNJWLJHVFGADNSHKHLXTJEYDJISIVJTMMQTFSYSVYPTWVVMQXNHUGNNIRFWPTJCFWPTTJSRDDKWHXTLJ\n",
      "IC 0  ---->  0.043260232584076\n",
      "hello\n",
      "IAOLBAWNNFMASKZVLOEMDSYVLSFYXRDKVSJAFRLHWVSRHTSLUNAHIGMWNRWOAEFZVLOSFDXEQXGKGWZOWTDKHEWZJAJJCXLKDHJQVOXMWFGQUHSKJQPQTVDXPUBTVDISQMXWLYYVMDJSFLHMDFWIEQMVWWYNJMIGVRAFAISMAVOVTWXTGIMTDWYTOUCMANTSCPYAWEDCALVARHXGGFXNGKEWWUEHBCHJCZOFTHJTAVBTFWIGRJTVDUEOLREMNHUTHSAJRWDRWJSVRVBFUUADBXKMKRJTBFVXERKELGXGLCHLMNVXABGLSRSZMEDQDHBDVDARUDTKMXWWMGGUUGRUYMUWRDOGLEXRLXJWLYRWTHKGWBOKTWSFLHLHGFJCUWCDWCEQMRWDQDHBDVDYNVITUWYTOUCAHWNWKGWVHFRAGKKFYVGIEKNCXMILWNSFTHUEWAUMMPDVRGXJDIJGRLAJKTFETIWLSHHLSTLFYVOXAFUVHXGWKXSHLPWNSNRZTUFLHQMXHJFGVWGWAIIGAIWGLAVBDKFNQFUIDSKEGAKFSJPQQVSDXAHUHWXHPWLEYANAWMGVUNVJTTMJLNHMIWGAYHXGHUNRSCAFGFVQBPJSNVJMTVFJYGQWJMNVJLBFXJRSVPDWLUTMDJJYTUMSGLJYYMGNWJVGDSKLTEDIIJMQFYVPWVQNUNIFPJFPTSDKHTJ\n",
      "hello\n",
      "PKWTNQNCFAWVHBIDKJBUIPQWJBQMSEJMYSOXAFJGQIRKLFTHBDVDKNGTPKYFRHBIDKJNVMISKTGSCPYAWEDOJAYTGIMIGJLRRXGWNMPOAJGGJQQTHGSSFHIVMALGHIVWKQNVCXAYUHOVAKVIAJATWKNAPVAVLHVQMTSWJYVZTDSHQVZCAJXYHAVSWJGWTHWGWZOWTDIFVJMXVKJFQMWFAFTVVTELFGDMTHWIFHACWSYVWATJMQFHIPGWJBPVFWHZSFTBFSJYXMKJFJRWMTVFQNRTKYSJRWMEYUZNLVVZIJRMZSIWNCUIIKSJRSMPMKNAHIXHALRWVJWVUTFCPAFFRUIAKDTVKMSDSJIQPGMANTSCRDWYEWVAKJJQQOHWKSROAVSVLUOMPMKNAHIGFHWAHAVSWJGPWIFWFYVOXAFUVHXGWKXSHLPWNSUULUAAJKRXTVWYRSQJJWQFDCHAFJNHXCSANTVCHBLJTDKGWVHFRAGKKFYVGIEKNCXMINAIFRAFWUXZRBCWHZYVVXAMJYVZPASNAHNCWGURLWUWWFNWOHGKIEEMTLJJQIQPAYJEFADWVUBXBKLWQBYMVDESQQCTDKJFHBKKGWVQDIGWQPJBKLUUADBAWGYGHBAKWJNLZGKGXOHBIAMUHSWVWDXELAISAUVJLHFANHHXJYJSVTMTSSYTVMXHGNRWTCWTJRDWXL\n",
      "IC 1  ---->  0.043284091035423716\n",
      "hello\n",
      "IKLNWCFWSBVKEUSQLBYSDMSOFFHQSKTTUDHKMTRYAHZDONDIQTKCZATDHAZGJIXLDXQNXOFGUQKHPSVIPATHIWMNLXVUJVLVDJIWMAWAJHGMAWIVADVQXCIXDATWCWNWCZATDFLMRKGQXFKTWTHFHMZWTHTWBVWTRQVIEWRPNWTSABWJWMVFBWUVBNMKJJFMEUELXZCRMSXNGIRSMSQMBADXULKVWVGFUAURUADTLMRSJQYMTTGROYWVLJHQJWWRWVQLWMDKDHYFIAWVOJAWNWGVHAAVKGVXELCNIUNATKETUYPQRWJDJALNKCENWCHLSDFWOFFGHFWGSKPXSNZFFFQXHBGHGVIAAYGPVNKNQGILKWANSHQISMAJHIHALEADWUVBVWTYLDMQGTHJHBRGAQFGBPSKJUVBYGWHNKLNXGSXDBUMDSYWMELIYUNLVASHTYIVMTYYWMNGIWJWTRKXJ\n",
      "hello\n",
      "POTANNAAHZDOBDPVJFMRJVSAALGVRHFLBADGGNKORFILJFMEKGSWYWEKJWTAMCJKRJWOPWJQJSTQSTHXMBGDVQQWCYYDOFKMAWTQNWVNLIQRSAYMTOHWZGJTHYSUGAHSWYWEIAJAVXFFWGFWVELCDCHFFJCVYFAGMTHUGLBMFUZSTRSRXSJVRUTDQKTRSBWXYKNGVLJLZVWBUSKZRDPHNVIRATWXWMTUPRFMIRDGKXDXILGWNKCBWTWFKLQFHUSDAEVROQMBADGVWUATWCPWFKYVXRUKXYKIHNWMUWUFJUXAWMSVJXFIHRJJXFAIVSBLTLGVHAAVKGVXELCNIRIUAHUXRFWWYAXGJWZASDHNWURSUGFFOPKVEXLUQXPWJYAAVGXNLTBJVHSWCYKGHNKCVGIQQJBVUTDJWQGMAJJFZRGPHLAMHJVUXGAYAGJJFDHLJDSJMFSPVQHNRPCPJDWT\n",
      "hello\n",
      "AWBQNFMVKILJMIYWSQXEKYJXRJWIRLSHNVINWPWFEBVKSVXSXGGPOWDOEYJIJGLRHGVMMAGGHQJGQFDVULVISKXVYAMHSAHIFAEKVPYVMVVTFJSZVSTVTAMYWVOJMTTGPOWDCVVXHJGMNAEVUEBGJTOIHAASTWIJJFDPOJEVHHHFJFDYJKRJFMAFXRKYTRVERZLVGIHMNIACLISJEMDKDHAHDRMJWUGCGFYUWKOVESLJWPRAHSWDKESAHJGOCKCOCSMUDPHNVINHTHYSUGHIWFWOFFGHFWGSKPXSLLSAHRWVMRDJGQDCGFAHTSTTLHHJTKYVXRUKXYKIHNWMNATRLWMZJCVZWVIMIVLABAFCFUDWEWKWJGQEDTHJWQPYEFNWMBUKJQMMNEIQADXFUKSWFDVWPJNLMAFAGYJBVWBLJKVOWITUJWTDSLJSMVWHGNKXEJITQSVTVXUNFTFTSDHL\n",
      "IC 2  ---->  0.0428512022043295\n",
      "hello\n",
      "IOBWNMSZLEDYLFXDVJFLWSHSUAIMNWAFVOFXQGGZWDHWJJCLDJVXWGUSJPTDPBVIQXLYMJFHDWEMWYJIVAASAOTXGMDYOCATCYWDAVRXGXGEWEBHCOTJABFIRTDELENUHARDWSRBUABKKJBVEKLXLHMVAGSSMDDBVAUTMWMGURYUROLXLJLRTKWOTSLLGJUCWEMWQHDDNIUYOCHNKWHRGKYGENXIWSTUWUMDRXDJRAKFTWSHSLYOAUHGKSLWSRTFHMHFVGAIAWLVDFQUDKGKSPQSXHHXPLYNWGUVTMLHIGYXHNSAGVBJNJTFYQJNJBXRVDLTDJTMGJYGWVDKTDIMFVWQUIPFTDHJ\n",
      "hello\n",
      "PWNNFWHIKBIQJQSJYOAJQRLTBVKGPYRBDJVIKGCYWDJYGMGLRGNPAGJQHSFIMLHVKNCAUOAVAAWNPALVMSJVTSQZAXHVWGTWWOTIVMVJQWATVEFDTWFAWYWTMFIGJPFHSTFJXKFRMVQRKSRMYZLVIRZINUISRMMNHXARVWUFPFRIKTKSSIPMNSRWEVKJQHKRASLOPKAIFWHVWGWFFVXFVXWXHPNULAJRTWRQJQDHFNXSNVHLTKWHRGKYGENXIAFAWXRCHYVAJVPSANWULUWNOGIETJQQAJFDVBBLQYVEQCDJHKGVDGQJKUABWYHAWNZKXHIMHWWXLIAVLFNHJJVMSYVXGRTWJDX\n",
      "hello\n",
      "ALANFAKVOMSVSYRKSARHVRTLNHGWROEZLSDEXKWOTKEZAJXKHQOMFQHKQQVXUTDSMWYVDSLMFIQVWNMGRFIMVVWTITWTUMNSPAECLAHGFNKWUHCJZFHTVTWGJVUORMHTSJWRJVVFUDXMRTFXREGGCLNXBLRZEQHDDRDKXWGUGUMWDGERXWYWHGBKWFHHFCWDCQRDDBVYVTWTUAWWGVFAKFVIKCMLNFHEAMPVGJIGLJTEILHLTFVXFVXWXHPNNZULQXJGWWIGIGABKNFISEAFJQVDAUWHWEAAMVNJTJNMWAHGURCFFQPSVMVJGWMVLFJSPWUMJYUSLYMNJGSLEIJQYPVNNFJPSKT\n",
      "hello\n",
      "KTQCAVBDJUPWBMEMSXFGIKFHDDNTKFHIKNMSTSPAEOATIIJRXWMOJGQTGSHVAGIWQVXYHVKIJTKAVVHQTWYZDHVCJYASJWHGZWDFJXKFMFFVTLGMHIHCSVAJQHPWBVWZFBSYMJJWTFNTYJWEUNVZJMSWCIKJSPKAIHLWJVTCAFUADVMDJQGATCDYWAJQOWSOVVUMMNHGHAASJPIWYOAUHGKSLWSUUAKXVYSJWFCAJHCATCBJDGVFAKFVIKCMNIRFUZBWZVXMYZANHCGRWWFWHKEMLJIPYEAWUXKWBMDSQTKFBKWQIWPBLUDAGGBKJLGGOBAUSVDEASUJHAHXYSTTSTMHNWCTRWL\n",
      "IC 3  ---->  0.04302135364635365\n",
      "hello\n",
      "IWACMHVJDQSMDYAFWRTHAKWKABLNXKKPWDETJGKXVPFGSHQHPLDWXCVHFVFTMPNHVSIZOQTJDVUWTWADAMHFXAWTBDZIJWTARFUWEFTFRJJJBMDNKSFEKLGJMIBISRQKVXDWWUUAYIDVXSWGTSBYSKHOURCVWPBHNWWSCWWYHFKGGHCSWAHXURVWDHLHFNLBSKVFUKWILXNIFWXBVYIMWPBHQUSWKOQEXJWPLFAUULTMHQAKHKCQVQSLTBGGNWFGVHUUJWSAYVJAKJITFYVHITPRH\n",
      "hello\n",
      "PLQNWKDEIVBXJSXLQRFUVGTWRZKFIXSZWKAJMXRJNMJUQQSDMTIQNYYJAMJENWVIMFYASWCMHTJAWPWDVAKGWKVEFJHTAVVIMVPLPHZAFRMRRUFKKTWEZGZHZXCSSEPBHRLMWGCRRWDLSXQRNGDTVHQJKDVMODNDFTAOGWWWXAHYXKWILFKWWPJXDGJKSICHTFVAGXVSNNNTAQZFHWXAVANFWIWGNJKSTUIPJAWGBJBLEWTXHRWGGPBJAJGJALLRXWADWUEJANHDHESMSPMURJTDX\n",
      "hello\n",
      "ATWFABLBSWFSKSFJVKSBHNNYEIOVETGYTOWGJJDGOOGJKGTIUGIKWXMOLIWWVVJVRWSTVVGXWSCTSZWILXXQNFWECMOFTSFTJHEJMWHTWYSFFTBRRJVYEVLRNWGIZSDNDHTVWTUFMAOKRJLMHCOEFJGHWOELDMDIVAYWAIKVFUKWILXUNAUTMSRQIAAXETSLTGORVFKEPMRFLUHCWVIJGADNFRKWFHQEAJXAEAWBNWMVMQYJUKADQPNUVAQHVJXKPBTHYDGIMJVNLYIMYTQGFCTDT\n",
      "hello\n",
      "KBNFVZKMPLQRMJAHIHTNDMPOHVJDSGCOEHYAILRQMWGHTPFXAVVMVYUSKDAQAYLGTAVVHXATAOGNGYTCJRJFFEVHGCWHCBWGQDGRVUSJSWKVWAQMYBMRNXILSAURJDMDIURXVGPUURTEDJPWTWWWALQCSWSRMHAYHUVUPNFVAGXVSNNLUTRAYDJJCRNTAWHLDYHFKGGHCSAUFMRGZAAIZVANGDUAWPIDLHQWENVVKTYNSGDGBSVFWJKMDYYMKBZSOLMJVMLYUWFSXDVQSWXNWFJKL\n",
      "hello\n",
      "ONNASIOUYJYEVORGSLLDIGRFFDSMQGWADJZICLHWXAQQJSVVBHSQLADVHAIKWAMQAJMDTZIYYWMHCOEFVVGMGTULHTFHAYWJTIOBNHSBDXVJUVXTJRXULVCMVNLKMMHAAAKJMFGFUKGMLIYAKRKWLJFWCAQUQKVGIHTJHFGORVFKEPMUSJEVMQGFJFJCTVHJLWXAHYXKWIZRHXJWGVGYLSKCULEFSGVMHQHYYDMXVQJDICHFNGFIBJVUFWWBJNJGDIMSTXLSGLGHTJJTVVNNPWSWJ\n",
      "IC 4  ---->  0.042806304016268434\n",
      "hello\n",
      "ILWFSVESLYDSFHSTUHMRAZODQKZTHZJXDQXFUKPVPTIMLVJLDIMWJGAIAVXIDTCNCADLRGXKWHHZTTBWRVERNTAWWVBUBMJFEEXCMXGRMQBDUKWGUUUDLRJYTGOWLHJWWQWDDYIWOANGHAKVECINTEUPRJJLKEWHSFOFHWSPSZFQHGGIAGVKQIKASQSAHHLAWVVTLMGHHRAFBSJVYWNLXSDUDYMLYNVSTIMYWNIJTKJ\n",
      "hello\n",
      "PTNAHDBPJMJSAGRFBDGKRIJMKSYEJTMJRWPJJTSHMGVQCYOKATNVLQSYTHZJHSGHWWIJVFWFVLDHFCYAMHGBFZTSXJRTQTSWYNVJZWUKRPNIAWWTPFIDKDIGNCWWKQHSAVOMAGWAWPFYXUXKHWUUJXWSJFHJXAVBTGHAKVECIIAURWYXJZSHWRUFOKELQPJAVXLBVSCKHKVIQBUDWGAJZGHAHVXAAJFHJSMSVHRCJW\n",
      "hello\n",
      "ABNMKLMYSXKJRWRSNIWWEVSXXGODEJJLHVMGHJQDUVSXYMSHFEVYMVFSVTTMWOMTPWCVHGNEUBJOHATIJDOEHHJDJRFAXKTVRLGHNALSEDDADMWGGYWOELWRHWKSHGCCCMDHVNTYUHWWFGFGKXLSHWMDGDGATTLHTYXUXKHWNTLMJVWIILBFFDEKJQDHWPENMUJMNIAXUSFVPNMFGJVBJVWTJTSJMWGKEIQVVUFFSH\n",
      "hello\n",
      "KNCWBKUQBSMOFQKTDKTYHDNITCADAGILXNOGQHSIAHWNXUVVJWAAHMWVDQCXAWWWZTFMKQFTTFMWHWVTQIWPWSBJMFWVNKJMULZRSNISSMAXLVVFARATMSQMTRYVJQWRVLMKHFAVJWWVAVGXLNUAKTYQWDANCNCLDWFGFGKXNFFXBHVAYPNNGLWNHIMJIAEDUBWYDQTJBGQGPKUBGHKNGXBMSWEIULAHYVTYMGWWRX\n",
      "hello\n",
      "OANAZODVFRVALVHLAGNOFLFEGWWKWACKJOWQSQTXBDQWYDFMWQWNIRAMOWGTYUASYEAAXFGWECCFJVFGTULMUSRRSVUDKRBXKGLLVBSZDHVRTXMURMRGXXLWKBTFLFUDERQBDVUTCWKVRKYINMWFUAMVXIRJFISLLVAVGXLNRUHXFWAGWADNUSGFPVXUXWYAGNTJHWYGNCGQJVTJQMJFRPLMJUGYGJDLDJFPQNPPDT\n",
      "hello\n",
      "WQFVIJIWQEYXJILHVNPFBKVSGPWOYIGRGMAGQGFVLIKVAHAIAKPVVTJZSVAYVJTGODVXJMAVEGTIASWJFPJVHFFYKJMFRYREZVIMICIJMKHHRJUCFUKVSJPASDEAJOKOSUPNIHHSGIFOFHWSPSLARVRJQCFHSTHJKVRKYINMARWZCZVMVAACUWWWGETJQYFWBKQMEQDFKWDWJLAAYBWLKOIUWDLSVHNXJTSTXNTTDL\n",
      "IC 5  ---->  0.0428681141401441\n",
      "hello\n",
      "ITNWZJSJXMAJSFNKNFZJXTWWHTJLJMFJJSXLIQYUFIINYHRJAHTXYJNWWFAJXFUFCITYIQUJNZJJSJUQKJXZXJNNSJQNALXUUFWTXJYNWYFJJSCLQNYWYJWFHUFXNSNJWYVQJJTNSJFHUFXNSILXFZIJLNNUKFJIXJHJNUNQLSAJNWFQNUJYNJJXLUYXJUJNTSQYQNJJH\n",
      "hello\n",
      "PBCAIEPSSVXHRSDGPAISIGPTJJIKGXJHHTVTVXXDADTVAITITTCTVCHPTAXGWETCTTCTTTPRFHBRKBTXKBEEVHSBIMPDXTJGPYAGSJGHRTAHHCVRPDGTVCIGXGGIPIUHTMJJHACIHSGXGGIPITFXCGXIPDCIUKHVTHPEDGKTVITGKAIPKTAWABGPIDVSIGHSJITPXICSX\n",
      "hello\n",
      "ANNVVBYBRYFGRTANRRVNEGZEEGCRQPGQQFPGSNYHLAEANVAYVQGYTGTZEVRFNTEGZFAVGFEBHSRYVRANRRENGRVCRRDARRWTGRRVRIRTBELQCREUDANATGNYFVYSCUSKARRFGNFTHTYFVYSCNFHZGYIYAAQRENPEAQPEABVBNQYFRVVPVAYGVNROUHTEYVVHEVFTNRFRT\n",
      "hello\n",
      "KAFSDMQFESAWKLVMKEDFSKYDAAGDWMGSGVMVWWAJKFWWVGSSDWADSMWYDLVGFWEHHHWFJVGEWSFWJFVKYFYLZLIGKEMVHKWGAMKLDWMKDWKGWDSWMVFUSAFWAKWEWLAUVPJDAJSWBTWAKWEWNUWHWWAWAKWDWFGSLWAYWVLMDWDHKFGJLVWJKFKDAJWGSNFKYJSWHFWDL\n",
      "hello\n",
      "OQFHLUVQDSRQHHHGWHLVQSODWIXRVOQQPHUHQVVOHJQPJQFVOVIHOWSODJHQGVHDOHVWRHOPUFWXRWDRJWRLLMXUSSHHUWWFRUDKLQWSOWHQUOQOHHVHOPWVRHVHXUFRUSGDRHEVHDVRHVHXRRQRVVGVVHFLGWQEHIWFWXJYHQHHSQQJJDGHJLSHTSULYJGHDTYVUWPDJ\n",
      "hello\n",
      "WWAKKDWYJJFVLUDWYFKDKGAKYJJHNWGKSDADKLYSVWKWLVWMSXJWWAGAIVKFAWLJWJSWMDWMHASJFUFMSVUGIMWLSDKDAMVUFUDESLAGWSJFKWVDKDHWWHWVFKKKNWAEWDWIFKALLLVFKKKNAFUJHAMGSFGSWSKDJXYAVUWJEGKUGGWSUFGMWXGWMJDLAWALJMSVGPTK\n",
      "hello\n",
      "LNMBOILMKOLITBITOBOMXCWOZMLXOAUTQIBIMCMVMAMVMMAZVZMAUTCWCMXMKVBMFABAJILVTTDMVMBTTMKVCZAIZMBIDVMCUIOMXPTCKVLOWAMMBIIAUWKOAXGLMLTXMQXCLXTCLKOAXGLMZAMBWVAZBNUWAOQMUQLAMBTMMCXBCDBBMBQBLZVBMWMAMLDXIMVMNTTW\n",
      "IC 6  ---->  0.07327729621811974\n",
      "-------------------------------------------------\n",
      "La taille de la cle est  7\n",
      "\n",
      "\n",
      "\n",
      "-------------------------------------------------\n",
      "Le clé utilisé est :  FPNSDSI\n",
      "\n",
      "\n",
      "\n",
      "-------------------------------------------------\n"
     ]
    },
    {
     "data": {
      "text/plain": [
       "'DANSLEDOMAINEFINANCIERLIAESTUTILISGEPOURLANALYSEDEDONNGESDEMARCHGLAPRGVISIONDESTENDANCESETLADGTECTIONDELAFRAUDELIAESTGGALEMENTUTILISGEDANSLESTRANSPORTSPOURAMGLIORERLASGCURITGROUTIFREETPOURDGVELOPPERDESVGHICULESAUTONOMESDANSLESDOMAINESDELASGCURITGETDELADGFENSELIAESTUTILISGEPOURLANALYSEDEDONNGESDERENSEIGNEMENTLADGTECTIONDEMENACESETLASURVEILLANCEDESFRONTIFRESELLEESTGGALEMENTUTILISGEPOURAMGLIORERLAQUALITGDEVIEDESPERSONNESHANDICAPGESENPERMETTANTPAREXEMPLEXDESPERSONNESATTEINTESDETROUBLESDELAPAROLEDECOMMUNIQUERPLUSFACILEMENTAVECLEURENVIRONNEMENTCEPENDANTLIASOULFVEGGALEMENTDESPRGOCCUPATIONSGTHIQUESETJURIDIQUESIMPORTANTESPAREXEMPLELAQUESTIONDELAVIEPRIVGEESTUNSUJETDEPRGOCCUPATIONMAJEURCARLESALGORITHMESDELIAPEUVENTHTREUTILISGSPOURCOLLECTERETANALYSERDESDONNGESPERSONNELLESXGRANDEGCHELLELAQUESTIONDELATRANSPARENCEESTGGALEMENTIMPORTANTECARLESDGCISIONSPRISESPARLESSYSTFMESDIAPEUVENTHTREDIFFICILESXCOMPRENDREETXEXPLIQUERDEPLUSLAQUESTIONDELARESPONSABILITGESTUNSUJETDEDGBATCARLESDGCISIONSPRISESPARLESSYSTFMESDIAPEUVENTAVOIRDESCONSGQUENCESIMPORTANTESPOURLESINDIVIDUSETLESORGANISATIONSENFINDECOMPTELIAOFFREDESAVANTAGESCONSIDGRABLESENTERMESDEFFICACITGDEPRGCISIONETDEPRODUCTIVITGELLEOUVREGGALEMENTDENOUVELLESPERSPECTIVESPOURLINNOVATIONETLACRGATIVITGCEPENDANTELLEDOITHTREUTILISGEDEMANIFRERESPONSABLEETGTHIQUEPOURPROTGGERLESDROITSETLAVIEPRIVGEDESINDIVIDUSETPOURGARANTIRQUELESAVANTAGESDELIAPROFITENTXLENSEMBLEDELASOCIGTG'"
      ]
     },
     "execution_count": 29,
     "metadata": {},
     "output_type": "execute_result"
    }
   ],
   "source": [
    "cl=cle(txt)\n",
    "dechiffrer(txt , cl)"
   ]
  },
  {
   "cell_type": "markdown",
   "id": "8924e61a",
   "metadata": {},
   "source": [
    "# Vernam"
   ]
  },
  {
   "cell_type": "code",
   "execution_count": 36,
   "id": "9a01b8c5",
   "metadata": {},
   "outputs": [],
   "source": [
    "def vernam( text , cle ) :\n",
    "    \n",
    "    text = [ ord(i) for i in list(text)  ]\n",
    "    cle = [ ord(i) for i in list(cle)  ]\n",
    "    \n",
    "    chif = [ chr(text[i]^cle[ i%len(cle) ]) for i in range(len(text)) ] \n",
    "\n",
    "    return ''.join(chif)  "
   ]
  },
  {
   "cell_type": "code",
   "execution_count": 37,
   "id": "022e27ce",
   "metadata": {},
   "outputs": [
    {
     "data": {
      "text/plain": [
       "'+)):*'"
      ]
     },
     "execution_count": 37,
     "metadata": {},
     "output_type": "execute_result"
    }
   ],
   "source": [
    "text = vernam('hello' ,'CLEVERNAM')\n",
    "text"
   ]
  },
  {
   "cell_type": "code",
   "execution_count": 38,
   "id": "8ce558a5",
   "metadata": {},
   "outputs": [
    {
     "data": {
      "text/plain": [
       "'hello'"
      ]
     },
     "execution_count": 38,
     "metadata": {},
     "output_type": "execute_result"
    }
   ],
   "source": [
    "vernam( text , 'CLEVERNAM' )"
   ]
  },
  {
   "cell_type": "code",
   "execution_count": 39,
   "id": "35ee9db8",
   "metadata": {},
   "outputs": [
    {
     "data": {
      "text/plain": [
       "\"\\x10)&#7;:$m')6v!= /¤&?\""
      ]
     },
     "execution_count": 39,
     "metadata": {},
     "output_type": "execute_result"
    }
   ],
   "source": [
    "text = vernam('Securite des données' ,'CLEVERNAM')\n",
    "text"
   ]
  },
  {
   "cell_type": "code",
   "execution_count": 40,
   "id": "6da9c66b",
   "metadata": {},
   "outputs": [
    {
     "data": {
      "text/plain": [
       "'Securite des données'"
      ]
     },
     "execution_count": 40,
     "metadata": {},
     "output_type": "execute_result"
    }
   ],
   "source": [
    "vernam( text , 'CLEVERNAM' )"
   ]
  },
  {
   "cell_type": "code",
   "execution_count": 41,
   "id": "eecb0fbf",
   "metadata": {},
   "outputs": [
    {
     "data": {
      "text/plain": [
       "'\\x10)&#7;=¨('"
      ]
     },
     "execution_count": 41,
     "metadata": {},
     "output_type": "execute_result"
    }
   ],
   "source": [
    "text = vernam('Securisée' ,'CLEVERNAM')\n",
    "text"
   ]
  },
  {
   "cell_type": "code",
   "execution_count": 42,
   "id": "e2b735d3",
   "metadata": {},
   "outputs": [
    {
     "data": {
      "text/plain": [
       "'Securisée'"
      ]
     },
     "execution_count": 42,
     "metadata": {},
     "output_type": "execute_result"
    }
   ],
   "source": [
    "vernam( text , 'CLEVERNAM' ) "
   ]
  },
  {
   "cell_type": "code",
   "execution_count": null,
   "id": "f6efaea3",
   "metadata": {},
   "outputs": [],
   "source": []
  },
  {
   "cell_type": "code",
   "execution_count": null,
   "id": "1cfd9308",
   "metadata": {},
   "outputs": [],
   "source": []
  },
  {
   "cell_type": "code",
   "execution_count": null,
   "id": "7ff867a6",
   "metadata": {},
   "outputs": [],
   "source": []
  }
 ],
 "metadata": {
  "kernelspec": {
   "display_name": "Python 3 (ipykernel)",
   "language": "python",
   "name": "python3"
  },
  "language_info": {
   "codemirror_mode": {
    "name": "ipython",
    "version": 3
   },
   "file_extension": ".py",
   "mimetype": "text/x-python",
   "name": "python",
   "nbconvert_exporter": "python",
   "pygments_lexer": "ipython3",
   "version": "3.10.4"
  }
 },
 "nbformat": 4,
 "nbformat_minor": 5
}
